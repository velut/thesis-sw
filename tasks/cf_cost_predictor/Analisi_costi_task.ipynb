{
 "cells": [
  {
   "cell_type": "markdown",
   "metadata": {},
   "source": [
    "# Analisi costi task\n",
    "---\n",
    "\n",
    "# Riepilogo dati disponibili\n",
    "\n",
    "File di riferimento con input usati in precedenza:\n",
    "\n",
    "    Dataset-TaskDesign02-proc-fragments-pairs\n",
    "    \n",
    "Dati disponibili per ogni nodo (attività):\n",
    "\n",
    "    process_id\n",
    "    node_id\n",
    "    node_label\n",
    "    node_image\n",
    "\n",
    "    \n",
    "Totale coppie originali: **989**\n",
    "\n",
    "Totale processi: **4**\n",
    "\n",
    "Totale nodi: **76**\n",
    "\n",
    "Totale immagini di frammento (1 per nodo): **76**\n",
    "\n",
    "Label (nome nodo) unici: **65**\n",
    "\n",
    "Label veramente unici (ignorando maiuscole/minuscole) : **59**\n",
    "\n",
    "### Proc82\n",
    "\n",
    "Totale nodi: **13**\n",
    "\n",
    "Lista label:\n",
    "\n",
    "    Apply Online\n",
    "\tSend Online Protocol\n",
    "\tEvaluate\n",
    "\tAcceptance\n",
    "\tPay for Aptitude test\n",
    "\tSend letter of rejection\n",
    "\tRank Students according to GPA and the test results\n",
    "\tCheck Documents\n",
    "\tDocuments received\n",
    "\tSend Documents by Post\n",
    "\tKeep in the Applicant pool\n",
    "\tTake Aptitude test\n",
    "\tInvite to an aptitude test\n",
    "\n",
    "### Proc83\n",
    "\n",
    "Totale nodi: **23**\n",
    "\n",
    "Lista label:\n",
    "\n",
    "    check documents\n",
    "\tless than 16 cp in mathematics\n",
    "\tsend letter of rejection\n",
    "\tsufficient cp in mathematics\n",
    "\ttake oral exam\n",
    "\tevaluate\n",
    "\twait for bachelor's certificate\n",
    "\tsend bachelor's certificate\n",
    "\tsend letter of provisional acceptance\n",
    "\trejected\n",
    "\tcheck certificate\n",
    "\tprovisional acceptance cancelled\n",
    "\taccepted provisionally\n",
    "\tsend letter of acceptance\n",
    "\tprovisional acceptance confirmed\n",
    "\taverage grade is less than good\n",
    "\taverage grade is good or better\n",
    "\taccepted\n",
    "\tcertificate received\n",
    "\tcertificate received\n",
    "\tdocuments received\n",
    "\tapply online\n",
    "\tsend documents by post\n",
    "\n",
    "\n",
    "### Proc84\n",
    "\n",
    "Totale nodi: **23**\n",
    "\n",
    "Lista label:\n",
    "\n",
    "    check application in time\n",
    "\tsend application\n",
    "\tcomplete and in time?\n",
    "\tcheck application complete\n",
    "\tcomplete application\n",
    "\treceive application\n",
    "\tfill out application form\n",
    "\tgerman?\n",
    "\tadd certificate of german language\n",
    "\tset additional requirements\n",
    "\thand application over to examining board\n",
    "\tcheck if bachelor is sufficient\n",
    "\tadd certificate of bachelor degree\n",
    "\tinvite for talk\n",
    "\treceive rejection\n",
    "\tcheck if bachelors-grade within top 85%\n",
    "\tsend rejection\n",
    "\timmatriculate\n",
    "\treceive acceptance\n",
    "\tsend acceptance\n",
    "\trank with other applicants\n",
    "\tdocument\n",
    "\ttalk to applicant\n",
    "\n",
    "\n",
    "### Proc89\n",
    "\n",
    "Totale nodi: **17**\n",
    "\n",
    "Lista label:\n",
    "\n",
    "    documents received\n",
    "\trejected\n",
    "\tsend letter of rejection\n",
    "\tsend letter of acceptance\n",
    "\trejected\n",
    "\tcheck bachelor's degree\n",
    "\tbridging courses > 30 cp\n",
    "\tconduct interview\n",
    "\tcheck documents\n",
    "\tgo to interview\n",
    "\tsend interview invitation\n",
    "\tforward documents\n",
    "\tdocuments received\n",
    "\tevaluate\n",
    "\tbridging courses < 30 cp\n",
    "\tapply online\n",
    "\tsend documents by post\n",
    "    \n",
    "## Coppie originali\n",
    "\n",
    "### Proc82 e Proc83\n",
    "\n",
    "Totale coppie possibili: **299** (13 * 23)\n",
    "\n",
    "Totale coppie effettive (nel file): **299**\n",
    "\n",
    "### Proc82 e Proc84\n",
    "\n",
    "Totale coppie possibili: **299** (13 * 23)\n",
    "\n",
    "Totale coppie effettive (nel file): **299**\n",
    "\n",
    "### Proc83 e Proc89\n",
    "\n",
    "Totale coppie possibili: **391** (23 * 17)\n",
    "\n",
    "Totale coppie effettive (nel file): **391**\n",
    "\n",
    "    \n",
    "## Sovrapposizioni\n",
    "\n",
    "(Case insensitive)\n",
    "(Le sovrapposizioni 82-83 e 82-89 coincidono)\n",
    "\n",
    "### Proc82 e Proc83\n",
    "\n",
    "Totale nodi sovrapposti: **6**\n",
    "\n",
    "Lista nodi sovrapposti:\n",
    "\n",
    "    evaluate\n",
    "    check documents\n",
    "    documents received\n",
    "    send documents by post\n",
    "    send letter of rejection\n",
    "    apply online\n",
    "\n",
    "    \n",
    "### Proc82 e Proc84\n",
    "\n",
    "Totale nodi sovrapposti: **0**\n",
    "\n",
    "Lista nodi sovrapposti: **N/A**\n",
    "    \n",
    "### Proc82 e Proc89\n",
    "\n",
    "Totale nodi sovrapposti: **6**\n",
    "\n",
    "Lista nodi sovrapposti:\n",
    "\n",
    "    evaluate\n",
    "    check documents\n",
    "    documents received\n",
    "    send documents by post\n",
    "    send letter of rejection\n",
    "    apply online\n",
    "\n",
    "    \n",
    "### Proc83 e Proc84\n",
    "\n",
    "Totale nodi sovrapposti: **0**\n",
    "\n",
    "Lista nodi sovrapposti: **N/A**\n",
    "    \n",
    "### Proc83 e Proc89\n",
    "\n",
    "Totale nodi sovrapposti: **8**\n",
    "\n",
    "Lista nodi sovrapposti:\n",
    "\n",
    "    evaluate\n",
    "    check documents\n",
    "    documents received\n",
    "    rejected\n",
    "    send documents by post\n",
    "    send letter of rejection\n",
    "    send letter of acceptance\n",
    "    apply online\n",
    "    \n",
    "### Proc84 e Proc89\n",
    "\n",
    "Totale nodi sovrapposti: **0**\n",
    "\n",
    "Lista nodi sovrapposti: **N/A**\n",
    "\n"
   ]
  },
  {
   "cell_type": "markdown",
   "metadata": {},
   "source": [
    "## Costi Crowdflower\n",
    "\n",
    "Riferimenti\n",
    "- https://success.crowdflower.com/hc/en-us/articles/202703165-Get-Results-Job-Costs\n",
    "- https://success.crowdflower.com/hc/en-us/articles/217741663-Guide-to-Pay-Page\n",
    "- https://success.crowdflower.com/hc/en-us/articles/201855719-Guide-to-Basic-Job-Settings-Page\n",
    "\n",
    "### Stima costo\n",
    "\n",
    "Su Crowdflower è riportata la formula:\n",
    "    \n",
    "    Estimated job cost = (Judgments per row * (Pages of work * Price per page)) + buffer + transaction fee\n",
    "    \n",
    "In realtà a `Price per page` va aggiunto un fee del 27.5%\n",
    "\n",
    "`Transaction fee` corrisponde al 20% del costo totale (contributors) escluso il buffer\n",
    "\n",
    "Quindi:\n",
    "    \n",
    "    Contributors judgment cost = Judgments per row * Pages of work * Price per page * 1.275\n",
    "    \n",
    "    Estimated job cost = Contributors judgment cost * 1.20 + buffer\n",
    "    \n",
    "Il valore `Pages of work` varia se vengono usate le domande test o meno.\n",
    "\n",
    "Se le domande test sono in uso ne viene inserita 1 per pagina\n",
    "\n",
    "Quindi:\n",
    "\n",
    "    Pages of work (no test) = ceiling(Total rows / Rows per page)\n",
    "    \n",
    "    Pages of work (test) = ceiling(Total rows / (Rows per page - 1))\n",
    "    "
   ]
  },
  {
   "cell_type": "code",
   "execution_count": 2,
   "metadata": {
    "collapsed": true
   },
   "outputs": [],
   "source": [
    "import math\n",
    "\n",
    "def contributors_cost(judgments_per_row, pages_of_work, price_per_page, fee_per_page = 0.275):\n",
    "    return judgments_per_row * pages_of_work * price_per_page * (1 + fee_per_page)\n",
    "\n",
    "def estimated_job_cost(contributors_cost, buffer = 0, cf_fee = 0.2):\n",
    "    return contributors_cost * (1 + cf_fee) + buffer\n",
    "\n",
    "def pages_of_work(tot_rows, rows_per_page, use_tests = False):\n",
    "    eff_rows_per_page = rows_per_page if not use_tests else rows_per_page - 1\n",
    "    return math.ceil(tot_rows / eff_rows_per_page)\n",
    "\n",
    "def price_per_row(price_per_page, rows_per_page, use_tests = False):\n",
    "    eff_rows_per_page = rows_per_page if not use_tests else rows_per_page - 1\n",
    "    return price_per_page / eff_rows_per_page"
   ]
  },
  {
   "cell_type": "code",
   "execution_count": 3,
   "metadata": {
    "collapsed": true
   },
   "outputs": [],
   "source": [
    "# Formatting helpers\n",
    "def fmtfl(fl):\n",
    "    \"\"\"\n",
    "    Format a float to 2 decimal digits\n",
    "    \"\"\"\n",
    "    return \"{:.2f}\".format(fl)\n",
    "\n",
    "def fmtbold(s):\n",
    "    \"\"\"\n",
    "    Make a string bold\n",
    "    \"\"\"\n",
    "    return f\"\\033[1m{s}\\033[0m\""
   ]
  },
  {
   "cell_type": "code",
   "execution_count": 4,
   "metadata": {
    "collapsed": true
   },
   "outputs": [],
   "source": [
    "def print_task_cost(task_name, judgments_per_row, rows, rows_per_page, price_per_page, \n",
    "                    use_tests = False, fee_per_page = 0.275, cf_fee = 0.2, buffer = 0):\n",
    "    \"\"\"\n",
    "    Use the tasks settings to calculate and print the task costs.\n",
    "    \"\"\"\n",
    "    _pow = pages_of_work(rows, rows_per_page, use_tests)\n",
    "    \n",
    "    print(f\"{fmtbold(task_name)} costs with:\")\n",
    "    print(f\"  {judgments_per_row} judgments per row\")\n",
    "    print(f\"  {_pow} pages of work\")\n",
    "    print(f\"    from {rows} rows and {rows_per_page} rows per page\")\n",
    "    if use_tests:\n",
    "        print(f\"    USING test questions (1 test question per page)\")\n",
    "    else:\n",
    "        print(f\"    no test questions used\")\n",
    "    \n",
    "    _ppr = price_per_row(price_per_page, rows_per_page, use_tests)\n",
    "    print(f\"  ${price_per_page} price per page (${fmtfl(_ppr)} price per row)\")\n",
    "    \n",
    "    if fee_per_page == 0.275 and cf_fee == 0.2 and buffer == 0:\n",
    "        print(f\"  Default fees and no buffer\")\n",
    "    else:\n",
    "        print(f\"  CUSTOM fees\")\n",
    "        print(f\"    fee per page: ${fee_per_page}\")\n",
    "        print(f\"    crowdflower's fee: ${cf_fee}\")\n",
    "        print(f\"  BUFFER: ${buffer}\")\n",
    "    \n",
    "    # Calculate and print costs\n",
    "    cc = contributors_cost(judgments_per_row, _pow, price_per_page, fee_per_page)\n",
    "    ejc = estimated_job_cost(cc, buffer, cf_fee)\n",
    "    cc_out = f\"Contributors cost:  ${fmtfl(cc)}\"\n",
    "    ejc_out = f\"Estimated job cost: ${fmtfl(ejc)}\"\n",
    "    print(f\"{fmtbold(cc_out)}\")\n",
    "    print(f\"{fmtbold(ejc_out)}\")"
   ]
  },
  {
   "cell_type": "code",
   "execution_count": 5,
   "metadata": {},
   "outputs": [
    {
     "name": "stdout",
     "output_type": "stream",
     "text": [
      "\u001b[1mExample Task\u001b[0m costs with:\n",
      "  3 judgments per row\n",
      "  40 pages of work\n",
      "    from 200 rows and 5 rows per page\n",
      "    no test questions used\n",
      "  $0.1 price per page ($0.02 price per row)\n",
      "  Default fees and no buffer\n",
      "\u001b[1mContributors cost:  $15.30\u001b[0m\n",
      "\u001b[1mEstimated job cost: $18.36\u001b[0m\n"
     ]
    }
   ],
   "source": [
    "# Testing the output\n",
    "# Not a real cost\n",
    "\"\"\"\n",
    "Example Task costs with:\n",
    "  3 judgments per row\n",
    "  40 pages of work\n",
    "    from 200 rows and 5 rows per page\n",
    "    no test questions used\n",
    "  $0.1 price per page ($0.02 price per row)\n",
    "  Default fees and no buffer\n",
    "Contributors cost:  $15.30\n",
    "Estimated job cost: $18.36\n",
    "\"\"\"\n",
    "print_task_cost(\"Example Task\", judgments_per_row = 3, rows = 200, rows_per_page = 5, price_per_page = 0.1)"
   ]
  },
  {
   "cell_type": "markdown",
   "metadata": {},
   "source": [
    "## Design 1 - Similarity Between Activities\n",
    "\n",
    "Questo design si basa su ContextOne e si possono riutilizzare le stesse 989 coppie originali come input."
   ]
  },
  {
   "cell_type": "markdown",
   "metadata": {},
   "source": [
    "#### Design 1; TEST RUN; 100\n",
    "\n",
    "Test run del Design 1 con 100 coppie"
   ]
  },
  {
   "cell_type": "code",
   "execution_count": 6,
   "metadata": {},
   "outputs": [
    {
     "name": "stdout",
     "output_type": "stream",
     "text": [
      "\u001b[1mDesign1-Test-100\u001b[0m costs with:\n",
      "  3 judgments per row\n",
      "  20 pages of work\n",
      "    from 100 rows and 5 rows per page\n",
      "    no test questions used\n",
      "  $0.1 price per page ($0.02 price per row)\n",
      "  Default fees and no buffer\n",
      "\u001b[1mContributors cost:  $7.65\u001b[0m\n",
      "\u001b[1mEstimated job cost: $9.18\u001b[0m\n"
     ]
    }
   ],
   "source": [
    "print_task_cost(\"Design1-Test-100\", judgments_per_row = 3, rows = 100, rows_per_page = 5, price_per_page = 0.1)"
   ]
  },
  {
   "cell_type": "markdown",
   "metadata": {},
   "source": [
    "#### Design 1; TEST RUN; 299\n",
    "\n",
    "Test run del Design 1 con 299 coppie (come coppie processi 82-83 o 82-84)"
   ]
  },
  {
   "cell_type": "code",
   "execution_count": 7,
   "metadata": {},
   "outputs": [
    {
     "name": "stdout",
     "output_type": "stream",
     "text": [
      "\u001b[1mDesign1-Test-299\u001b[0m costs with:\n",
      "  3 judgments per row\n",
      "  60 pages of work\n",
      "    from 299 rows and 5 rows per page\n",
      "    no test questions used\n",
      "  $0.1 price per page ($0.02 price per row)\n",
      "  Default fees and no buffer\n",
      "\u001b[1mContributors cost:  $22.95\u001b[0m\n",
      "\u001b[1mEstimated job cost: $27.54\u001b[0m\n"
     ]
    }
   ],
   "source": [
    "print_task_cost(\"Design1-Test-299\", judgments_per_row = 3, rows = 299, rows_per_page = 5, price_per_page = 0.1)"
   ]
  },
  {
   "cell_type": "markdown",
   "metadata": {},
   "source": [
    "#### Design 1; TEST RUN; 391\n",
    "\n",
    "Test run del Design 1 con 391 coppie (come coppie processi 83-89)"
   ]
  },
  {
   "cell_type": "code",
   "execution_count": 8,
   "metadata": {},
   "outputs": [
    {
     "name": "stdout",
     "output_type": "stream",
     "text": [
      "\u001b[1mDesign1-Test-391\u001b[0m costs with:\n",
      "  3 judgments per row\n",
      "  79 pages of work\n",
      "    from 391 rows and 5 rows per page\n",
      "    no test questions used\n",
      "  $0.1 price per page ($0.02 price per row)\n",
      "  Default fees and no buffer\n",
      "\u001b[1mContributors cost:  $30.22\u001b[0m\n",
      "\u001b[1mEstimated job cost: $36.26\u001b[0m\n"
     ]
    }
   ],
   "source": [
    "print_task_cost(\"Design1-Test-391\", judgments_per_row = 3, rows = 391, rows_per_page = 5, price_per_page = 0.1)"
   ]
  },
  {
   "cell_type": "markdown",
   "metadata": {},
   "source": [
    "#### Design 1; FULL RUN; 989\n",
    "\n",
    "Full run del Design 1 con le 989 coppie originali"
   ]
  },
  {
   "cell_type": "code",
   "execution_count": 9,
   "metadata": {},
   "outputs": [
    {
     "name": "stdout",
     "output_type": "stream",
     "text": [
      "\u001b[1mDesign1-Full-989\u001b[0m costs with:\n",
      "  3 judgments per row\n",
      "  198 pages of work\n",
      "    from 989 rows and 5 rows per page\n",
      "    no test questions used\n",
      "  $0.1 price per page ($0.02 price per row)\n",
      "  Default fees and no buffer\n",
      "\u001b[1mContributors cost:  $75.73\u001b[0m\n",
      "\u001b[1mEstimated job cost: $90.88\u001b[0m\n"
     ]
    }
   ],
   "source": [
    "print_task_cost(\"Design1-Full-989\", judgments_per_row = 3, rows = 989, rows_per_page = 5, price_per_page = 0.1)"
   ]
  },
  {
   "cell_type": "markdown",
   "metadata": {},
   "source": [
    "## Design 2 - Activity Enrichment Through Keywords\n",
    "\n",
    "Questo design può avere come input row del tipo\n",
    "\n",
    "    | process_id | node_id | node_label | node_img |\n",
    "    \n",
    "estratte dai vecchi dati.\n",
    "\n",
    "Ogni row si riferisce ad un nodo (attività) a cui nel task i worker dovranno assegnare una lista di parole chiave.\n",
    "\n",
    "Ci sono 76 nodi distinti con altrettante immagini associate, quindi ci saranno 76 row."
   ]
  },
  {
   "cell_type": "code",
   "execution_count": 10,
   "metadata": {},
   "outputs": [
    {
     "name": "stdout",
     "output_type": "stream",
     "text": [
      "\u001b[1mDesign2-Full-76\u001b[0m costs with:\n",
      "  3 judgments per row\n",
      "  16 pages of work\n",
      "    from 76 rows and 5 rows per page\n",
      "    no test questions used\n",
      "  $0.1 price per page ($0.02 price per row)\n",
      "  Default fees and no buffer\n",
      "\u001b[1mContributors cost:  $6.12\u001b[0m\n",
      "\u001b[1mEstimated job cost: $7.34\u001b[0m\n"
     ]
    }
   ],
   "source": [
    "print_task_cost(\"Design2-Full-76\", judgments_per_row = 3, rows = 76, rows_per_page = 5, price_per_page = 0.1)"
   ]
  },
  {
   "cell_type": "markdown",
   "metadata": {},
   "source": [
    "Si sono avuti i seguenti risultati dopo l'effettivo lancio del test con la seguente configurazione\n",
    "\n",
    "    print_task_cost(\"Design2-Full-76\", \n",
    "                    judgments_per_row = 3, rows = 76, \n",
    "                    rows_per_page = 5, price_per_page = 0.1)\n",
    "                    \n",
    "\n",
    "Trusted judgments: **228** (judgments accettati e inclusi nell'output)\n",
    "\n",
    "Untrusted judgments: **45** (judgments rifiutati durante lo svolgimento dell'esperimento e rimossi dall'output)\n",
    "\n",
    "Total judgments: **273** (trusted + untrusted, questo è il totale dei judgments pagati)\n",
    "\n",
    "Costo (come riportato da CF): **$6.84**"
   ]
  },
  {
   "cell_type": "markdown",
   "metadata": {},
   "source": [
    "Dato che le row sono poche si potrebbero aumentare i judgment per row richiesti per avere più liste di parole chiave associate alle attività"
   ]
  },
  {
   "cell_type": "code",
   "execution_count": 11,
   "metadata": {},
   "outputs": [
    {
     "name": "stdout",
     "output_type": "stream",
     "text": [
      "\u001b[1mDesign2-Full-76-4jdg\u001b[0m costs with:\n",
      "  4 judgments per row\n",
      "  16 pages of work\n",
      "    from 76 rows and 5 rows per page\n",
      "    no test questions used\n",
      "  $0.1 price per page ($0.02 price per row)\n",
      "  Default fees and no buffer\n",
      "\u001b[1mContributors cost:  $8.16\u001b[0m\n",
      "\u001b[1mEstimated job cost: $9.79\u001b[0m\n"
     ]
    }
   ],
   "source": [
    "# 4 Judgments per row\n",
    "print_task_cost(\"Design2-Full-76-4jdg\", judgments_per_row = 4, rows = 76, rows_per_page = 5, price_per_page = 0.1)"
   ]
  },
  {
   "cell_type": "code",
   "execution_count": 12,
   "metadata": {},
   "outputs": [
    {
     "name": "stdout",
     "output_type": "stream",
     "text": [
      "\u001b[1mDesign2-Full-76-5jdg\u001b[0m costs with:\n",
      "  5 judgments per row\n",
      "  16 pages of work\n",
      "    from 76 rows and 5 rows per page\n",
      "    no test questions used\n",
      "  $0.1 price per page ($0.02 price per row)\n",
      "  Default fees and no buffer\n",
      "\u001b[1mContributors cost:  $10.20\u001b[0m\n",
      "\u001b[1mEstimated job cost: $12.24\u001b[0m\n"
     ]
    }
   ],
   "source": [
    "# 5 Judgments per row\n",
    "print_task_cost(\"Design2-Full-76-5jdg\", judgments_per_row = 5, rows = 76, rows_per_page = 5, price_per_page = 0.1)"
   ]
  },
  {
   "cell_type": "code",
   "execution_count": 13,
   "metadata": {},
   "outputs": [
    {
     "name": "stdout",
     "output_type": "stream",
     "text": [
      "\u001b[1mDesign2-Full-76-6jdg\u001b[0m costs with:\n",
      "  6 judgments per row\n",
      "  16 pages of work\n",
      "    from 76 rows and 5 rows per page\n",
      "    no test questions used\n",
      "  $0.1 price per page ($0.02 price per row)\n",
      "  Default fees and no buffer\n",
      "\u001b[1mContributors cost:  $12.24\u001b[0m\n",
      "\u001b[1mEstimated job cost: $14.69\u001b[0m\n"
     ]
    }
   ],
   "source": [
    "# 6 Judgments per row\n",
    "print_task_cost(\"Design2-Full-76-6jdg\", judgments_per_row = 6, rows = 76, rows_per_page = 5, price_per_page = 0.1)"
   ]
  },
  {
   "cell_type": "code",
   "execution_count": 14,
   "metadata": {},
   "outputs": [
    {
     "name": "stdout",
     "output_type": "stream",
     "text": [
      "\u001b[1mDesign2-Full-76-7jdg\u001b[0m costs with:\n",
      "  7 judgments per row\n",
      "  16 pages of work\n",
      "    from 76 rows and 5 rows per page\n",
      "    no test questions used\n",
      "  $0.1 price per page ($0.02 price per row)\n",
      "  Default fees and no buffer\n",
      "\u001b[1mContributors cost:  $14.28\u001b[0m\n",
      "\u001b[1mEstimated job cost: $17.14\u001b[0m\n"
     ]
    }
   ],
   "source": [
    "# 7 Judgments per row\n",
    "print_task_cost(\"Design2-Full-76-7jdg\", judgments_per_row = 7, rows = 76, rows_per_page = 5, price_per_page = 0.1)"
   ]
  },
  {
   "cell_type": "code",
   "execution_count": 15,
   "metadata": {},
   "outputs": [
    {
     "name": "stdout",
     "output_type": "stream",
     "text": [
      "\u001b[1mDesign2-Full-76-10jdg\u001b[0m costs with:\n",
      "  10 judgments per row\n",
      "  16 pages of work\n",
      "    from 76 rows and 5 rows per page\n",
      "    no test questions used\n",
      "  $0.1 price per page ($0.02 price per row)\n",
      "  Default fees and no buffer\n",
      "\u001b[1mContributors cost:  $20.40\u001b[0m\n",
      "\u001b[1mEstimated job cost: $24.48\u001b[0m\n"
     ]
    }
   ],
   "source": [
    "# 10 Judgments per row\n",
    "print_task_cost(\"Design2-Full-76-10jdg\", judgments_per_row = 10, rows = 76, rows_per_page = 5, price_per_page = 0.1)"
   ]
  },
  {
   "cell_type": "markdown",
   "metadata": {},
   "source": [
    "## Design 4 - Search Query Feedback\n",
    "\n",
    "Questo design, se come query si considerano i label dei nodi, come input può avere row nel formato\n",
    "\n",
    "    | query_process_id | query_node_id | query_node_label | ...(continua sotto)...\n",
    "    | result_proc_id | result_group_id | result_group_img | result_group_labels |\n",
    "\n",
    "    query_process_id: id del processo da cui viene estratta la query\n",
    "    query_node_id: id del nodo da cui viene estratta la query\n",
    "    query_node_label: la query è il label di un nodo\n",
    "    result_proc_id: l'id del processo ottenuto come risultato dalla query\n",
    "    result_group_id: id del gruppo di nodi contenuti nel risultato \n",
    "                     (non si confronta più un nodo alla volta ma un insieme di nodi)\n",
    "    result_group_img: risultato della query, l'immagine del frammento di processo contenente dei nodi\n",
    "    result_group_labels: label delle attività contenuti nell'immagine che rappresenta il risultato della query\n",
    "    \n",
    "Raggruppando (soggettivamente) i nodi già presenti nel vecchio input si ottengono:\n",
    "\n",
    "Gruppi proc 82: **4**\n",
    "\n",
    "Gruppi proc 83: **6**\n",
    "\n",
    "Gruppi proc 84: **6**\n",
    "\n",
    "Gruppi proc 89: **5**\n",
    "\n",
    "Se si considerano le coppie originali (82-83, 82-84, 83-89) si ottengono i numeri di row\n",
    "\n",
    "L'ordine dei processi nella coppia è importante perché dal primo processo vengono estratti i label mentre dal secondo i gruppi.\n",
    "\n",
    "**Primo caso**\n",
    "\n",
    "Row 82-83: **78** (13 label di 82 * 6 gruppi di 83)\n",
    "\n",
    "Row 82-84: **78** (13 * 6)\n",
    "\n",
    "Row 83-89: **115** (23 * 5)\n",
    "\n",
    "Totale row primo caso: **271** (78 + 78 + 115)\n",
    "\n",
    "**Secondo caso**\n",
    "\n",
    "Row 83-82: **92** (23 label di 83 * 4 gruppi di 82)\n",
    "\n",
    "Row 84-82: **92** (23 * 4)\n",
    "\n",
    "Row 89-83: **102** (17 * 6)\n",
    "\n",
    "Totale row secondo caso: **286** (92 + 92 + 102)\n",
    "\n",
    "Totale row primo e secondo caso: **557** (271 + 286)\n",
    "\n",
    "Per l'esperimento si considerano tutte le row del primo caso (271) più le row della coppia 83-82 dal secondo caso (92)\n",
    "\n",
    "**Totale row esperimento:** **363** (271 + 92)"
   ]
  },
  {
   "cell_type": "code",
   "execution_count": 16,
   "metadata": {},
   "outputs": [
    {
     "name": "stdout",
     "output_type": "stream",
     "text": [
      "\u001b[1mDesign4-Test-100\u001b[0m costs with:\n",
      "  3 judgments per row\n",
      "  20 pages of work\n",
      "    from 100 rows and 5 rows per page\n",
      "    no test questions used\n",
      "  $0.1 price per page ($0.02 price per row)\n",
      "  Default fees and no buffer\n",
      "\u001b[1mContributors cost:  $7.65\u001b[0m\n",
      "\u001b[1mEstimated job cost: $9.18\u001b[0m\n"
     ]
    }
   ],
   "source": [
    "print_task_cost(\"Design4-Test-100\", judgments_per_row = 3, rows = 100, rows_per_page = 5, price_per_page = 0.1)"
   ]
  },
  {
   "cell_type": "code",
   "execution_count": 47,
   "metadata": {},
   "outputs": [
    {
     "name": "stdout",
     "output_type": "stream",
     "text": [
      "\u001b[1mDesign4-Test-35\u001b[0m costs with:\n",
      "  2 judgments per row\n",
      "  16 pages of work\n",
      "    from 80 rows and 5 rows per page\n",
      "    no test questions used\n",
      "  $0.1 price per page ($0.02 price per row)\n",
      "  Default fees and no buffer\n",
      "\u001b[1mContributors cost:  $4.08\u001b[0m\n",
      "\u001b[1mEstimated job cost: $4.90\u001b[0m\n"
     ]
    }
   ],
   "source": [
    "print_task_cost(\"Design4-Test-35\", judgments_per_row = 2, rows = 80, rows_per_page = 5, price_per_page = 0.1)"
   ]
  },
  {
   "cell_type": "code",
   "execution_count": 16,
   "metadata": {},
   "outputs": [
    {
     "name": "stdout",
     "output_type": "stream",
     "text": [
      "\u001b[1mDesign4-Test-100\u001b[0m costs with:\n",
      "  2 judgments per row\n",
      "  18 pages of work\n",
      "    from 90 rows and 5 rows per page\n",
      "    no test questions used\n",
      "  $0.1 price per page ($0.02 price per row)\n",
      "  Default fees and no buffer\n",
      "\u001b[1mContributors cost:  $4.59\u001b[0m\n",
      "\u001b[1mEstimated job cost: $5.51\u001b[0m\n"
     ]
    }
   ],
   "source": [
    "print_task_cost(\"Design4-Test-100\", judgments_per_row = 2, rows = 90, rows_per_page = 5, price_per_page = 0.1)"
   ]
  },
  {
   "cell_type": "code",
   "execution_count": 17,
   "metadata": {},
   "outputs": [
    {
     "name": "stdout",
     "output_type": "stream",
     "text": [
      "\u001b[1mDesign4-Full-271\u001b[0m costs with:\n",
      "  3 judgments per row\n",
      "  55 pages of work\n",
      "    from 271 rows and 5 rows per page\n",
      "    no test questions used\n",
      "  $0.1 price per page ($0.02 price per row)\n",
      "  Default fees and no buffer\n",
      "\u001b[1mContributors cost:  $21.04\u001b[0m\n",
      "\u001b[1mEstimated job cost: $25.24\u001b[0m\n"
     ]
    }
   ],
   "source": [
    "print_task_cost(\"Design4-Full-271\", judgments_per_row = 3, rows = 271, rows_per_page = 5, price_per_page = 0.1)"
   ]
  },
  {
   "cell_type": "code",
   "execution_count": 18,
   "metadata": {},
   "outputs": [
    {
     "name": "stdout",
     "output_type": "stream",
     "text": [
      "\u001b[1mDesign4-Full-286\u001b[0m costs with:\n",
      "  3 judgments per row\n",
      "  58 pages of work\n",
      "    from 286 rows and 5 rows per page\n",
      "    no test questions used\n",
      "  $0.1 price per page ($0.02 price per row)\n",
      "  Default fees and no buffer\n",
      "\u001b[1mContributors cost:  $22.19\u001b[0m\n",
      "\u001b[1mEstimated job cost: $26.62\u001b[0m\n"
     ]
    }
   ],
   "source": [
    "print_task_cost(\"Design4-Full-286\", judgments_per_row = 3, rows = 286, rows_per_page = 5, price_per_page = 0.1)"
   ]
  },
  {
   "cell_type": "code",
   "execution_count": 19,
   "metadata": {},
   "outputs": [
    {
     "name": "stdout",
     "output_type": "stream",
     "text": [
      "\u001b[1mDesign4-Full-271+286\u001b[0m costs with:\n",
      "  3 judgments per row\n",
      "  112 pages of work\n",
      "    from 557 rows and 5 rows per page\n",
      "    no test questions used\n",
      "  $0.1 price per page ($0.02 price per row)\n",
      "  Default fees and no buffer\n",
      "\u001b[1mContributors cost:  $42.84\u001b[0m\n",
      "\u001b[1mEstimated job cost: $51.41\u001b[0m\n"
     ]
    }
   ],
   "source": [
    "print_task_cost(\"Design4-Full-271+286\", judgments_per_row = 3, rows = 271+286, rows_per_page = 5, price_per_page = 0.1)"
   ]
  },
  {
   "cell_type": "code",
   "execution_count": 20,
   "metadata": {},
   "outputs": [
    {
     "name": "stdout",
     "output_type": "stream",
     "text": [
      "\u001b[1mDesign4-Full-Final-271+92\u001b[0m costs with:\n",
      "  3 judgments per row\n",
      "  73 pages of work\n",
      "    from 363 rows and 5 rows per page\n",
      "    no test questions used\n",
      "  $0.1 price per page ($0.02 price per row)\n",
      "  Default fees and no buffer\n",
      "\u001b[1mContributors cost:  $27.92\u001b[0m\n",
      "\u001b[1mEstimated job cost: $33.51\u001b[0m\n"
     ]
    }
   ],
   "source": [
    "print_task_cost(\"Design4-Full-Final-271+92\", judgments_per_row = 3, rows = 271+92, rows_per_page = 5, price_per_page = 0.1)"
   ]
  },
  {
   "cell_type": "markdown",
   "metadata": {},
   "source": [
    "## Design 7 - One To Many With Labels\n",
    "\n",
    "Questo design chiede al worker di stabilire le somiglianze tra due frammenti di processo e poi, data un'attività contenuta nel primo frammento, di stabilire quali attività del secondo frammento siano rispettivamente match e part-of.\n",
    "\n",
    "In pratica se il Design 1 usa un approccio 1:1, confrontando ogni possibile coppia di attività, questo design ne sfrutta uno 1:n, confrontando un'attività con le altre attività contenute in un frammento di processo.\n",
    "\n",
    "Il contenuto di una row è uguale a quello del design 4\n",
    "\n",
    "Sia il numero di row che i costi sono uguali a quelli del design 4."
   ]
  },
  {
   "cell_type": "code",
   "execution_count": 21,
   "metadata": {},
   "outputs": [
    {
     "name": "stdout",
     "output_type": "stream",
     "text": [
      "\u001b[1mDesign7-Test-100\u001b[0m costs with:\n",
      "  3 judgments per row\n",
      "  20 pages of work\n",
      "    from 100 rows and 5 rows per page\n",
      "    no test questions used\n",
      "  $0.1 price per page ($0.02 price per row)\n",
      "  Default fees and no buffer\n",
      "\u001b[1mContributors cost:  $7.65\u001b[0m\n",
      "\u001b[1mEstimated job cost: $9.18\u001b[0m\n"
     ]
    }
   ],
   "source": [
    "print_task_cost(\"Design7-Test-100\", judgments_per_row = 3, rows = 100, rows_per_page = 5, price_per_page = 0.1)"
   ]
  },
  {
   "cell_type": "code",
   "execution_count": 22,
   "metadata": {},
   "outputs": [
    {
     "name": "stdout",
     "output_type": "stream",
     "text": [
      "\u001b[1mDesign7-Full-271\u001b[0m costs with:\n",
      "  3 judgments per row\n",
      "  55 pages of work\n",
      "    from 271 rows and 5 rows per page\n",
      "    no test questions used\n",
      "  $0.1 price per page ($0.02 price per row)\n",
      "  Default fees and no buffer\n",
      "\u001b[1mContributors cost:  $21.04\u001b[0m\n",
      "\u001b[1mEstimated job cost: $25.24\u001b[0m\n"
     ]
    }
   ],
   "source": [
    "print_task_cost(\"Design7-Full-271\", judgments_per_row = 3, rows = 271, rows_per_page = 5, price_per_page = 0.1)"
   ]
  },
  {
   "cell_type": "code",
   "execution_count": 23,
   "metadata": {},
   "outputs": [
    {
     "name": "stdout",
     "output_type": "stream",
     "text": [
      "\u001b[1mDesign7-Full-271+92\u001b[0m costs with:\n",
      "  3 judgments per row\n",
      "  73 pages of work\n",
      "    from 363 rows and 5 rows per page\n",
      "    no test questions used\n",
      "  $0.1 price per page ($0.02 price per row)\n",
      "  Default fees and no buffer\n",
      "\u001b[1mContributors cost:  $27.92\u001b[0m\n",
      "\u001b[1mEstimated job cost: $33.51\u001b[0m\n"
     ]
    }
   ],
   "source": [
    "print_task_cost(\"Design7-Full-271+92\", judgments_per_row = 3, rows = 271+92, rows_per_page = 5, price_per_page = 0.1)"
   ]
  },
  {
   "cell_type": "markdown",
   "metadata": {},
   "source": [
    "## Design 8 -  Search With Context\n",
    "\n",
    "Questo design è una via di mezzo tra il design 4 ed il design 7.\n",
    "\n",
    "Oltre alla semplice query testuale viene anche mostrato il contesto (immagine del frammento di processo) \n",
    "dell'attività da cui è estratta la query.\n",
    "\n",
    "Allo stesso tempo il numero ed il tipo di domande è in linea con le domande presenti nel design 4.\n",
    "\n",
    "Il contenuto di una row è uguale a quello del design 4\n",
    "\n",
    "Sia il numero di row che i costi sono uguali a quelli del design 4."
   ]
  },
  {
   "cell_type": "code",
   "execution_count": 24,
   "metadata": {},
   "outputs": [
    {
     "name": "stdout",
     "output_type": "stream",
     "text": [
      "\u001b[1mDesign8-Test-100\u001b[0m costs with:\n",
      "  3 judgments per row\n",
      "  20 pages of work\n",
      "    from 100 rows and 5 rows per page\n",
      "    no test questions used\n",
      "  $0.1 price per page ($0.02 price per row)\n",
      "  Default fees and no buffer\n",
      "\u001b[1mContributors cost:  $7.65\u001b[0m\n",
      "\u001b[1mEstimated job cost: $9.18\u001b[0m\n"
     ]
    }
   ],
   "source": [
    "print_task_cost(\"Design8-Test-100\", judgments_per_row = 3, rows = 100, rows_per_page = 5, price_per_page = 0.1)"
   ]
  },
  {
   "cell_type": "code",
   "execution_count": 25,
   "metadata": {},
   "outputs": [
    {
     "name": "stdout",
     "output_type": "stream",
     "text": [
      "\u001b[1mDesign8-Full-271+92\u001b[0m costs with:\n",
      "  3 judgments per row\n",
      "  73 pages of work\n",
      "    from 363 rows and 5 rows per page\n",
      "    no test questions used\n",
      "  $0.1 price per page ($0.02 price per row)\n",
      "  Default fees and no buffer\n",
      "\u001b[1mContributors cost:  $27.92\u001b[0m\n",
      "\u001b[1mEstimated job cost: $33.51\u001b[0m\n"
     ]
    }
   ],
   "source": [
    "print_task_cost(\"Design8-Full-271+92\", judgments_per_row = 3, rows = 271+92, rows_per_page = 5, price_per_page = 0.1)"
   ]
  }
 ],
 "metadata": {
  "kernelspec": {
   "display_name": "Python 3",
   "language": "python",
   "name": "python3"
  },
  "language_info": {
   "codemirror_mode": {
    "name": "ipython",
    "version": 3
   },
   "file_extension": ".py",
   "mimetype": "text/x-python",
   "name": "python",
   "nbconvert_exporter": "python",
   "pygments_lexer": "ipython3",
   "version": "3.6.2"
  }
 },
 "nbformat": 4,
 "nbformat_minor": 2
}
