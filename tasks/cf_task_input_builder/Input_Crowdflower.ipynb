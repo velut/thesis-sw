{
 "cells": [
  {
   "cell_type": "code",
   "execution_count": 73,
   "metadata": {
    "collapsed": true,
    "scrolled": true
   },
   "outputs": [],
   "source": [
    "# README\n",
    "#\n",
    "# This file is used to analyze previous input data and generate input data for new designs\n",
    "#\n",
    "# To correctly use this notebook:\n",
    "# a) Put the file 'Dataset-TaskDesign02-proc-fragments-pairs--CSV.csv' in the same folder as this notebook\n",
    "#    This file is available at the following address:\n",
    "#    https://www.dropbox.com/sh/2nedm4o444nnpid/AAAThms56S4Vz1jP4WsYR3bba?dl=0\n",
    "# b) On notebook start use: Cell -> Run All\n",
    "\n",
    "# Read existing input data\n",
    "import csv\n",
    "\n",
    "rows = []\n",
    "\n",
    "with open('Dataset-TaskDesign02-proc-fragments-pairs--CSV.csv') as csvfile:\n",
    "    csvreader = csv.reader(csvfile)\n",
    "    rows = list(csvreader)"
   ]
  },
  {
   "cell_type": "code",
   "execution_count": 74,
   "metadata": {},
   "outputs": [
    {
     "name": "stdout",
     "output_type": "stream",
     "text": [
      "Total rows: 990\n",
      "\n",
      "Headers: ['processId_A;nodeId_A;nodeLabel_A;processId_B;nodeId_B;nodeLabel_B;img_A;img_B']\n",
      "\n",
      "Total DATA rows: 989\n",
      "\n",
      "First data row: ['83;2707;check documents;89;2884;documents received;http://galvanic-axle-852.appspot.com/static/taskdesign01/83/2707.png;http://galvanic-axle-852.appspot.com/static/taskdesign01/89/2884.png']\n",
      "\n",
      "Second data row: ['83;2707;check documents;89;2883;rejected;http://galvanic-axle-852.appspot.com/static/taskdesign01/83/2707.png;http://galvanic-axle-852.appspot.com/static/taskdesign01/89/2883.png']\n",
      "\n",
      "Third data row: ['83;2707;check documents;89;2889;send letter of rejection;http://galvanic-axle-852.appspot.com/static/taskdesign01/83/2707.png;http://galvanic-axle-852.appspot.com/static/taskdesign01/89/2889.png']\n",
      "\n"
     ]
    }
   ],
   "source": [
    "total_rows = len(rows)\n",
    "print(f'Total rows: {total_rows}\\n')\n",
    "\n",
    "header_row = rows[0]\n",
    "print(f'Headers: {header_row}\\n')\n",
    "\n",
    "data = rows[1:]\n",
    "total_data = len(data)\n",
    "print(f'Total DATA rows: {total_data}\\n')\n",
    "print(f'First data row: {data[0]}\\n')\n",
    "print(f'Second data row: {data[1]}\\n')\n",
    "print(f'Third data row: {data[2]}\\n')"
   ]
  },
  {
   "cell_type": "code",
   "execution_count": 75,
   "metadata": {},
   "outputs": [
    {
     "data": {
      "text/plain": [
       "['83',\n",
       " '2707',\n",
       " 'check documents',\n",
       " '89',\n",
       " '2884',\n",
       " 'documents received',\n",
       " 'http://galvanic-axle-852.appspot.com/static/taskdesign01/83/2707.png',\n",
       " 'http://galvanic-axle-852.appspot.com/static/taskdesign01/89/2884.png']"
      ]
     },
     "execution_count": 75,
     "metadata": {},
     "output_type": "execute_result"
    }
   ],
   "source": [
    "# List of strings contained in data rows\n",
    "datastr = [i[0] for i in data]\n",
    "\n",
    "# List of lists of values contained in a row\n",
    "datavals = [i.split(';') for i in datastr]\n",
    "\n",
    "datavals[0]"
   ]
  },
  {
   "cell_type": "code",
   "execution_count": 76,
   "metadata": {},
   "outputs": [
    {
     "data": {
      "text/plain": [
       "[['83',\n",
       "  '2707',\n",
       "  'check documents',\n",
       "  'http://galvanic-axle-852.appspot.com/static/taskdesign01/83/2707.png'],\n",
       " ['89',\n",
       "  '2884',\n",
       "  'documents received',\n",
       "  'http://galvanic-axle-852.appspot.com/static/taskdesign01/89/2884.png']]"
      ]
     },
     "execution_count": 76,
     "metadata": {},
     "output_type": "execute_result"
    }
   ],
   "source": [
    "# List of lists representing a single process-node info\n",
    "singlevals = [[[i[0],i[1],i[2],i[6]],\n",
    "               [i[3],i[4],i[5],i[7]]] \n",
    "              for i in datavals]\n",
    "singlevals[0]"
   ]
  },
  {
   "cell_type": "code",
   "execution_count": 77,
   "metadata": {},
   "outputs": [
    {
     "data": {
      "text/plain": [
       "[['83',\n",
       "  '2707',\n",
       "  'check documents',\n",
       "  'http://galvanic-axle-852.appspot.com/static/taskdesign01/83/2707.png'],\n",
       " ['89',\n",
       "  '2884',\n",
       "  'documents received',\n",
       "  'http://galvanic-axle-852.appspot.com/static/taskdesign01/89/2884.png']]"
      ]
     },
     "execution_count": 77,
     "metadata": {},
     "output_type": "execute_result"
    }
   ],
   "source": [
    "from itertools import chain\n",
    "\n",
    "# Flatten singlevals list\n",
    "# Each value in flatvals represents the data associated to a single node\n",
    "flatvals = list(chain.from_iterable(singlevals))\n",
    "\n",
    "[flatvals[0], flatvals[1]]"
   ]
  },
  {
   "cell_type": "code",
   "execution_count": 78,
   "metadata": {},
   "outputs": [
    {
     "data": {
      "text/plain": [
       "1978"
      ]
     },
     "execution_count": 78,
     "metadata": {},
     "output_type": "execute_result"
    }
   ],
   "source": [
    "len(flatvals) # Flatvals contains duplicate node data"
   ]
  },
  {
   "cell_type": "code",
   "execution_count": 79,
   "metadata": {},
   "outputs": [
    {
     "data": {
      "text/plain": [
       "4"
      ]
     },
     "execution_count": 79,
     "metadata": {},
     "output_type": "execute_result"
    }
   ],
   "source": [
    "# Set of unique processes\n",
    "proset = {i[0] for i in flatvals}\n",
    "\n",
    "len(proset) # 4 unique processes"
   ]
  },
  {
   "cell_type": "code",
   "execution_count": 80,
   "metadata": {},
   "outputs": [
    {
     "data": {
      "text/plain": [
       "{'82', '83', '84', '89'}"
      ]
     },
     "execution_count": 80,
     "metadata": {},
     "output_type": "execute_result"
    }
   ],
   "source": [
    "proset"
   ]
  },
  {
   "cell_type": "code",
   "execution_count": 81,
   "metadata": {},
   "outputs": [
    {
     "data": {
      "text/plain": [
       "76"
      ]
     },
     "execution_count": 81,
     "metadata": {},
     "output_type": "execute_result"
    }
   ],
   "source": [
    "# Set of unique nodes\n",
    "nodeset = {i[1] for i in flatvals}\n",
    "\n",
    "len(nodeset) # 76 unique nodes"
   ]
  },
  {
   "cell_type": "code",
   "execution_count": 82,
   "metadata": {
    "collapsed": true,
    "scrolled": false
   },
   "outputs": [],
   "source": [
    "#nodeset"
   ]
  },
  {
   "cell_type": "code",
   "execution_count": 83,
   "metadata": {},
   "outputs": [
    {
     "data": {
      "text/plain": [
       "76"
      ]
     },
     "execution_count": 83,
     "metadata": {},
     "output_type": "execute_result"
    }
   ],
   "source": [
    "# Set of unique images\n",
    "imageset = {i[3] for i in flatvals}\n",
    "\n",
    "len(imageset) # 76 unique images (1 image per node)"
   ]
  },
  {
   "cell_type": "code",
   "execution_count": 84,
   "metadata": {
    "collapsed": true
   },
   "outputs": [],
   "source": [
    "#imageset"
   ]
  },
  {
   "cell_type": "code",
   "execution_count": 85,
   "metadata": {},
   "outputs": [
    {
     "data": {
      "text/plain": [
       "65"
      ]
     },
     "execution_count": 85,
     "metadata": {},
     "output_type": "execute_result"
    }
   ],
   "source": [
    "# Set of unique node labels\n",
    "labelset = {i[2] for i in flatvals}\n",
    "\n",
    "len(labelset) # 65 unique labels (considering letter case)"
   ]
  },
  {
   "cell_type": "code",
   "execution_count": 86,
   "metadata": {
    "collapsed": true,
    "scrolled": false
   },
   "outputs": [],
   "source": [
    "#labelset"
   ]
  },
  {
   "cell_type": "code",
   "execution_count": 87,
   "metadata": {
    "scrolled": false
   },
   "outputs": [
    {
     "data": {
      "text/plain": [
       "76"
      ]
     },
     "execution_count": 87,
     "metadata": {},
     "output_type": "execute_result"
    }
   ],
   "source": [
    "# Collection of nodes where each node is: node_id: { proc_id, node_id, node_label, image }\n",
    "nodes = { i[1]: { 'proc_id': i[0], 'node_id': i[1], 'label': i[2], 'img': i[3] } for i in flatvals }\n",
    "len(nodes)"
   ]
  },
  {
   "cell_type": "code",
   "execution_count": 88,
   "metadata": {},
   "outputs": [
    {
     "data": {
      "text/plain": [
       "{'img': 'http://galvanic-axle-852.appspot.com/static/taskdesign01/83/2709.png',\n",
       " 'label': 'send letter of rejection',\n",
       " 'node_id': '2709',\n",
       " 'proc_id': '83'}"
      ]
     },
     "execution_count": 88,
     "metadata": {},
     "output_type": "execute_result"
    }
   ],
   "source": [
    "nodes['2709'] # Example node (activity)"
   ]
  },
  {
   "cell_type": "code",
   "execution_count": 89,
   "metadata": {},
   "outputs": [
    {
     "data": {
      "text/plain": [
       "'send letter of rejection'"
      ]
     },
     "execution_count": 89,
     "metadata": {},
     "output_type": "execute_result"
    }
   ],
   "source": [
    "nodes['2709']['label']"
   ]
  },
  {
   "cell_type": "code",
   "execution_count": 90,
   "metadata": {
    "scrolled": false
   },
   "outputs": [
    {
     "data": {
      "text/plain": [
       "{'Acceptance': ['2683'],\n",
       " 'Apply Online': ['2667'],\n",
       " 'Check Documents': ['2671'],\n",
       " 'Documents received': ['2670'],\n",
       " 'Evaluate': ['2672'],\n",
       " 'Invite to an aptitude test': ['2673'],\n",
       " 'Keep in the Applicant pool': ['2674'],\n",
       " 'Pay for Aptitude test': ['2679'],\n",
       " 'Rank Students according to GPA and the test results': ['2676'],\n",
       " 'Send Documents by Post': ['2669'],\n",
       " 'Send Online Protocol': ['2668'],\n",
       " 'Send letter of rejection': ['2684'],\n",
       " 'Take Aptitude test': ['2675'],\n",
       " 'accepted': ['2696'],\n",
       " 'accepted provisionally': ['2698'],\n",
       " 'add certificate of bachelor degree': ['2716'],\n",
       " 'add certificate of german language': ['2722'],\n",
       " 'apply online': ['2886', '2691'],\n",
       " 'average grade is good or better': ['2687'],\n",
       " 'average grade is less than good': ['2689'],\n",
       " 'bridging courses < 30 cp': ['2896'],\n",
       " 'bridging courses > 30 cp': ['2895'],\n",
       " 'certificate received': ['2700', '2702'],\n",
       " 'check application complete': ['2715'],\n",
       " 'check application in time': ['2717'],\n",
       " \"check bachelor's degree\": ['2894'],\n",
       " 'check certificate': ['2703'],\n",
       " 'check documents': ['2707', '2897'],\n",
       " 'check if bachelor is sufficient': ['2712'],\n",
       " 'check if bachelors-grade within top 85%': ['2714'],\n",
       " 'complete and in time?': ['2710'],\n",
       " 'complete application': ['2730'],\n",
       " 'conduct interview': ['2891'],\n",
       " 'document': ['2727'],\n",
       " 'documents received': ['2884', '2899', '2706'],\n",
       " 'evaluate': ['2887', '2708'],\n",
       " 'fill out application form': ['2732'],\n",
       " 'forward documents': ['2898'],\n",
       " 'german?': ['2718'],\n",
       " 'go to interview': ['2892'],\n",
       " 'hand application over to examining board': ['2711'],\n",
       " 'immatriculate': ['2724'],\n",
       " 'invite for talk': ['2725'],\n",
       " 'less than 16 cp in mathematics': ['2704'],\n",
       " 'provisional acceptance cancelled': ['2693'],\n",
       " 'provisional acceptance confirmed': ['2692'],\n",
       " 'rank with other applicants': ['2728'],\n",
       " 'receive acceptance': ['2723'],\n",
       " 'receive application': ['2719'],\n",
       " 'receive rejection': ['2721'],\n",
       " 'rejected': ['2883', '2893', '2697'],\n",
       " 'send acceptance': ['2729'],\n",
       " 'send application': ['2720'],\n",
       " \"send bachelor's certificate\": ['2701'],\n",
       " 'send documents by post': ['2885', '2690'],\n",
       " 'send interview invitation': ['2890'],\n",
       " 'send letter of acceptance': ['2888', '2694'],\n",
       " 'send letter of provisional acceptance': ['2695'],\n",
       " 'send letter of rejection': ['2889', '2709'],\n",
       " 'send rejection': ['2731'],\n",
       " 'set additional requirements': ['2713'],\n",
       " 'sufficient cp in mathematics': ['2688'],\n",
       " 'take oral exam': ['2705'],\n",
       " 'talk to applicant': ['2726'],\n",
       " \"wait for bachelor's certificate\": ['2699']}"
      ]
     },
     "execution_count": 90,
     "metadata": {},
     "output_type": "execute_result"
    }
   ],
   "source": [
    "label_to_nodes = {}\n",
    "for l in labelset:\n",
    "    label_to_nodes[l] = []\n",
    "    \n",
    "for l in labelset:\n",
    "    for k, v in nodes.items():\n",
    "        if v['label'] == l:\n",
    "            label_to_nodes[l].append(k)\n",
    "            \n",
    "label_to_nodes"
   ]
  },
  {
   "cell_type": "code",
   "execution_count": 91,
   "metadata": {},
   "outputs": [
    {
     "data": {
      "text/plain": [
       "{'apply online': ['2886', '2691'],\n",
       " 'certificate received': ['2700', '2702'],\n",
       " 'check documents': ['2707', '2897'],\n",
       " 'documents received': ['2884', '2899', '2706'],\n",
       " 'evaluate': ['2887', '2708'],\n",
       " 'rejected': ['2883', '2893', '2697'],\n",
       " 'send documents by post': ['2885', '2690'],\n",
       " 'send letter of acceptance': ['2888', '2694'],\n",
       " 'send letter of rejection': ['2889', '2709']}"
      ]
     },
     "execution_count": 91,
     "metadata": {},
     "output_type": "execute_result"
    }
   ],
   "source": [
    "shared_labels = {k: v for k, v in label_to_nodes.items() if len(v) > 1}\n",
    "\n",
    "shared_labels"
   ]
  },
  {
   "cell_type": "code",
   "execution_count": 92,
   "metadata": {},
   "outputs": [
    {
     "data": {
      "text/plain": [
       "{'img': 'http://galvanic-axle-852.appspot.com/static/taskdesign01/89/2886.png',\n",
       " 'label': 'apply online',\n",
       " 'node_id': '2886',\n",
       " 'proc_id': '89'}"
      ]
     },
     "execution_count": 92,
     "metadata": {},
     "output_type": "execute_result"
    }
   ],
   "source": [
    "nodes['2886']"
   ]
  },
  {
   "cell_type": "code",
   "execution_count": 93,
   "metadata": {},
   "outputs": [
    {
     "data": {
      "text/plain": [
       "{'img': 'http://galvanic-axle-852.appspot.com/static/taskdesign01/83/2691.png',\n",
       " 'label': 'apply online',\n",
       " 'node_id': '2691',\n",
       " 'proc_id': '83'}"
      ]
     },
     "execution_count": 93,
     "metadata": {},
     "output_type": "execute_result"
    }
   ],
   "source": [
    "nodes['2691']"
   ]
  },
  {
   "cell_type": "code",
   "execution_count": 94,
   "metadata": {},
   "outputs": [
    {
     "data": {
      "text/plain": [
       "59"
      ]
     },
     "execution_count": 94,
     "metadata": {},
     "output_type": "execute_result"
    }
   ],
   "source": [
    "lower_labelset = {l.lower() for l in labelset}\n",
    "\n",
    "len(lower_labelset) # 59 unique labels (ignoring letter case)"
   ]
  },
  {
   "cell_type": "code",
   "execution_count": 95,
   "metadata": {},
   "outputs": [
    {
     "data": {
      "text/plain": [
       "{'acceptance',\n",
       " 'accepted',\n",
       " 'accepted provisionally',\n",
       " 'add certificate of bachelor degree',\n",
       " 'add certificate of german language',\n",
       " 'apply online',\n",
       " 'average grade is good or better',\n",
       " 'average grade is less than good',\n",
       " 'bridging courses < 30 cp',\n",
       " 'bridging courses > 30 cp',\n",
       " 'certificate received',\n",
       " 'check application complete',\n",
       " 'check application in time',\n",
       " \"check bachelor's degree\",\n",
       " 'check certificate',\n",
       " 'check documents',\n",
       " 'check if bachelor is sufficient',\n",
       " 'check if bachelors-grade within top 85%',\n",
       " 'complete and in time?',\n",
       " 'complete application',\n",
       " 'conduct interview',\n",
       " 'document',\n",
       " 'documents received',\n",
       " 'evaluate',\n",
       " 'fill out application form',\n",
       " 'forward documents',\n",
       " 'german?',\n",
       " 'go to interview',\n",
       " 'hand application over to examining board',\n",
       " 'immatriculate',\n",
       " 'invite for talk',\n",
       " 'invite to an aptitude test',\n",
       " 'keep in the applicant pool',\n",
       " 'less than 16 cp in mathematics',\n",
       " 'pay for aptitude test',\n",
       " 'provisional acceptance cancelled',\n",
       " 'provisional acceptance confirmed',\n",
       " 'rank students according to gpa and the test results',\n",
       " 'rank with other applicants',\n",
       " 'receive acceptance',\n",
       " 'receive application',\n",
       " 'receive rejection',\n",
       " 'rejected',\n",
       " 'send acceptance',\n",
       " 'send application',\n",
       " \"send bachelor's certificate\",\n",
       " 'send documents by post',\n",
       " 'send interview invitation',\n",
       " 'send letter of acceptance',\n",
       " 'send letter of provisional acceptance',\n",
       " 'send letter of rejection',\n",
       " 'send online protocol',\n",
       " 'send rejection',\n",
       " 'set additional requirements',\n",
       " 'sufficient cp in mathematics',\n",
       " 'take aptitude test',\n",
       " 'take oral exam',\n",
       " 'talk to applicant',\n",
       " \"wait for bachelor's certificate\"}"
      ]
     },
     "execution_count": 95,
     "metadata": {},
     "output_type": "execute_result"
    }
   ],
   "source": [
    "lower_labelset # The list of the 59 unique labels (ignoring letter case)"
   ]
  },
  {
   "cell_type": "code",
   "execution_count": 96,
   "metadata": {
    "scrolled": false
   },
   "outputs": [
    {
     "data": {
      "text/plain": [
       "59"
      ]
     },
     "execution_count": 96,
     "metadata": {},
     "output_type": "execute_result"
    }
   ],
   "source": [
    "lower_label_to_nodes = {}\n",
    "for l in lower_labelset:\n",
    "    lower_label_to_nodes[l] = []\n",
    "    \n",
    "for l in lower_labelset:\n",
    "    for k, v in nodes.items():\n",
    "        if v['label'].lower() == l:\n",
    "            lower_label_to_nodes[l].append(k)\n",
    "            \n",
    "len(lower_label_to_nodes)"
   ]
  },
  {
   "cell_type": "code",
   "execution_count": 97,
   "metadata": {},
   "outputs": [
    {
     "data": {
      "text/plain": [
       "{'apply online': ['2886', '2691', '2667'],\n",
       " 'certificate received': ['2700', '2702'],\n",
       " 'check documents': ['2707', '2897', '2671'],\n",
       " 'documents received': ['2884', '2899', '2706', '2670'],\n",
       " 'evaluate': ['2887', '2708', '2672'],\n",
       " 'rejected': ['2883', '2893', '2697'],\n",
       " 'send documents by post': ['2885', '2690', '2669'],\n",
       " 'send letter of acceptance': ['2888', '2694'],\n",
       " 'send letter of rejection': ['2889', '2709', '2684']}"
      ]
     },
     "execution_count": 97,
     "metadata": {},
     "output_type": "execute_result"
    }
   ],
   "source": [
    "lower_shared_labels = {k: v for k, v in lower_label_to_nodes.items() if len(v) > 1}\n",
    "\n",
    "lower_shared_labels"
   ]
  },
  {
   "cell_type": "code",
   "execution_count": 98,
   "metadata": {},
   "outputs": [
    {
     "data": {
      "text/plain": [
       "13"
      ]
     },
     "execution_count": 98,
     "metadata": {},
     "output_type": "execute_result"
    }
   ],
   "source": [
    "# List of node ids for nodes belonging to process 82\n",
    "nodes82 = [k for k, v in nodes.items() if v['proc_id'] == '82']\n",
    "len(nodes82)"
   ]
  },
  {
   "cell_type": "code",
   "execution_count": 99,
   "metadata": {},
   "outputs": [
    {
     "data": {
      "text/plain": [
       "23"
      ]
     },
     "execution_count": 99,
     "metadata": {},
     "output_type": "execute_result"
    }
   ],
   "source": [
    "# List of node ids for nodes belonging to process 83\n",
    "nodes83 = [k for k, v in nodes.items() if v['proc_id'] == '83']\n",
    "len(nodes83)"
   ]
  },
  {
   "cell_type": "code",
   "execution_count": 100,
   "metadata": {},
   "outputs": [
    {
     "data": {
      "text/plain": [
       "23"
      ]
     },
     "execution_count": 100,
     "metadata": {},
     "output_type": "execute_result"
    }
   ],
   "source": [
    "# List of node ids for nodes belonging to process 84\n",
    "nodes84 = [k for k, v in nodes.items() if v['proc_id'] == '84']\n",
    "len(nodes84)"
   ]
  },
  {
   "cell_type": "code",
   "execution_count": 101,
   "metadata": {},
   "outputs": [
    {
     "data": {
      "text/plain": [
       "17"
      ]
     },
     "execution_count": 101,
     "metadata": {},
     "output_type": "execute_result"
    }
   ],
   "source": [
    "# List of node ids for nodes belonging to process 89\n",
    "nodes89 = [k for k, v in nodes.items() if v['proc_id'] == '89']\n",
    "len(nodes89)"
   ]
  },
  {
   "cell_type": "code",
   "execution_count": 102,
   "metadata": {},
   "outputs": [
    {
     "name": "stdout",
     "output_type": "stream",
     "text": [
      "Apply Online\n",
      "Send Online Protocol\n",
      "Evaluate\n",
      "Acceptance\n",
      "Pay for Aptitude test\n",
      "Send letter of rejection\n",
      "Rank Students according to GPA and the test results\n",
      "Check Documents\n",
      "Documents received\n",
      "Send Documents by Post\n",
      "Keep in the Applicant pool\n",
      "Take Aptitude test\n",
      "Invite to an aptitude test\n"
     ]
    }
   ],
   "source": [
    "# Node labels from proc 82\n",
    "labels82 = [nodes[n]['label'] for n in nodes82]\n",
    "for l in labels82:\n",
    "    print(l)"
   ]
  },
  {
   "cell_type": "code",
   "execution_count": 103,
   "metadata": {},
   "outputs": [
    {
     "name": "stdout",
     "output_type": "stream",
     "text": [
      "check documents\n",
      "less than 16 cp in mathematics\n",
      "send letter of rejection\n",
      "sufficient cp in mathematics\n",
      "take oral exam\n",
      "evaluate\n",
      "wait for bachelor's certificate\n",
      "send bachelor's certificate\n",
      "send letter of provisional acceptance\n",
      "rejected\n",
      "check certificate\n",
      "provisional acceptance cancelled\n",
      "accepted provisionally\n",
      "send letter of acceptance\n",
      "provisional acceptance confirmed\n",
      "average grade is less than good\n",
      "average grade is good or better\n",
      "accepted\n",
      "certificate received\n",
      "certificate received\n",
      "documents received\n",
      "apply online\n",
      "send documents by post\n"
     ]
    }
   ],
   "source": [
    "# Node labels from proc 83\n",
    "labels83 = [nodes[n]['label'] for n in nodes83]\n",
    "for l in labels83:\n",
    "    print(l)"
   ]
  },
  {
   "cell_type": "code",
   "execution_count": 104,
   "metadata": {},
   "outputs": [
    {
     "name": "stdout",
     "output_type": "stream",
     "text": [
      "check application in time\n",
      "send application\n",
      "complete and in time?\n",
      "check application complete\n",
      "complete application\n",
      "receive application\n",
      "fill out application form\n",
      "german?\n",
      "add certificate of german language\n",
      "set additional requirements\n",
      "hand application over to examining board\n",
      "check if bachelor is sufficient\n",
      "add certificate of bachelor degree\n",
      "invite for talk\n",
      "receive rejection\n",
      "check if bachelors-grade within top 85%\n",
      "send rejection\n",
      "immatriculate\n",
      "receive acceptance\n",
      "send acceptance\n",
      "rank with other applicants\n",
      "document\n",
      "talk to applicant\n"
     ]
    }
   ],
   "source": [
    "# Node labels from proc 84\n",
    "labels84 = [nodes[n]['label'] for n in nodes84]\n",
    "for l in labels84:\n",
    "    print(l)"
   ]
  },
  {
   "cell_type": "code",
   "execution_count": 105,
   "metadata": {},
   "outputs": [
    {
     "name": "stdout",
     "output_type": "stream",
     "text": [
      "documents received\n",
      "rejected\n",
      "send letter of rejection\n",
      "send letter of acceptance\n",
      "rejected\n",
      "check bachelor's degree\n",
      "bridging courses > 30 cp\n",
      "conduct interview\n",
      "check documents\n",
      "go to interview\n",
      "send interview invitation\n",
      "forward documents\n",
      "documents received\n",
      "evaluate\n",
      "bridging courses < 30 cp\n",
      "apply online\n",
      "send documents by post\n"
     ]
    }
   ],
   "source": [
    "# Node labels from proc 89\n",
    "labels89 = [nodes[n]['label'] for n in nodes89]\n",
    "for l in labels89:\n",
    "    print(l)"
   ]
  },
  {
   "cell_type": "code",
   "execution_count": 106,
   "metadata": {
    "collapsed": true
   },
   "outputs": [],
   "source": [
    "# Lower case labels\n",
    "lower_labels82 = [l.lower() for l in labels82]\n",
    "lower_labels83 = [l.lower() for l in labels83]\n",
    "lower_labels84 = [l.lower() for l in labels84]\n",
    "lower_labels89 = [l.lower() for l in labels89]"
   ]
  },
  {
   "cell_type": "code",
   "execution_count": 107,
   "metadata": {
    "collapsed": true
   },
   "outputs": [],
   "source": [
    "# Labels in common between a pair of processes, for all processes\n",
    "common8283 = set(lower_labels82).intersection(lower_labels83)\n",
    "common8284 = set(lower_labels82).intersection(lower_labels84)\n",
    "common8289 = set(lower_labels82).intersection(lower_labels89)\n",
    "common8384 = set(lower_labels83).intersection(lower_labels84)\n",
    "common8389 = set(lower_labels83).intersection(lower_labels89)\n",
    "common8489 = set(lower_labels84).intersection(lower_labels89)"
   ]
  },
  {
   "cell_type": "code",
   "execution_count": 108,
   "metadata": {},
   "outputs": [
    {
     "name": "stdout",
     "output_type": "stream",
     "text": [
      "check documents\n",
      "documents received\n",
      "evaluate\n",
      "send documents by post\n",
      "apply online\n",
      "send letter of rejection\n"
     ]
    }
   ],
   "source": [
    "for i in common8283:\n",
    "    print(i)"
   ]
  },
  {
   "cell_type": "code",
   "execution_count": 109,
   "metadata": {},
   "outputs": [
    {
     "data": {
      "text/plain": [
       "set()"
      ]
     },
     "execution_count": 109,
     "metadata": {},
     "output_type": "execute_result"
    }
   ],
   "source": [
    "common8284"
   ]
  },
  {
   "cell_type": "code",
   "execution_count": 110,
   "metadata": {},
   "outputs": [
    {
     "name": "stdout",
     "output_type": "stream",
     "text": [
      "check documents\n",
      "documents received\n",
      "evaluate\n",
      "send documents by post\n",
      "apply online\n",
      "send letter of rejection\n"
     ]
    }
   ],
   "source": [
    "for i in common8289:\n",
    "    print(i)"
   ]
  },
  {
   "cell_type": "code",
   "execution_count": 111,
   "metadata": {},
   "outputs": [
    {
     "data": {
      "text/plain": [
       "set()"
      ]
     },
     "execution_count": 111,
     "metadata": {},
     "output_type": "execute_result"
    }
   ],
   "source": [
    "common8384"
   ]
  },
  {
   "cell_type": "code",
   "execution_count": 112,
   "metadata": {
    "scrolled": false
   },
   "outputs": [
    {
     "name": "stdout",
     "output_type": "stream",
     "text": [
      "send letter of acceptance\n",
      "check documents\n",
      "rejected\n",
      "documents received\n",
      "evaluate\n",
      "send documents by post\n",
      "apply online\n",
      "send letter of rejection\n"
     ]
    }
   ],
   "source": [
    "for i in common8389:\n",
    "    print(i)"
   ]
  },
  {
   "cell_type": "code",
   "execution_count": 113,
   "metadata": {},
   "outputs": [
    {
     "data": {
      "text/plain": [
       "set()"
      ]
     },
     "execution_count": 113,
     "metadata": {},
     "output_type": "execute_result"
    }
   ],
   "source": [
    "common8489"
   ]
  },
  {
   "cell_type": "code",
   "execution_count": 114,
   "metadata": {},
   "outputs": [
    {
     "data": {
      "text/plain": [
       "True"
      ]
     },
     "execution_count": 114,
     "metadata": {},
     "output_type": "execute_result"
    }
   ],
   "source": [
    "# common8283 and common8289 coincide\n",
    "_diff_82838289 = common8283 != common8289\n",
    "not _diff_82838289"
   ]
  },
  {
   "cell_type": "code",
   "execution_count": 115,
   "metadata": {},
   "outputs": [
    {
     "name": "stdout",
     "output_type": "stream",
     "text": [
      "http://galvanic-axle-852.appspot.com/static/taskdesign01/82/2667.png\n",
      "http://galvanic-axle-852.appspot.com/static/taskdesign01/82/2668.png\n",
      "http://galvanic-axle-852.appspot.com/static/taskdesign01/82/2669.png\n",
      "http://galvanic-axle-852.appspot.com/static/taskdesign01/82/2670.png\n",
      "http://galvanic-axle-852.appspot.com/static/taskdesign01/82/2671.png\n",
      "http://galvanic-axle-852.appspot.com/static/taskdesign01/82/2672.png\n",
      "http://galvanic-axle-852.appspot.com/static/taskdesign01/82/2673.png\n",
      "http://galvanic-axle-852.appspot.com/static/taskdesign01/82/2674.png\n",
      "http://galvanic-axle-852.appspot.com/static/taskdesign01/82/2675.png\n",
      "http://galvanic-axle-852.appspot.com/static/taskdesign01/82/2676.png\n",
      "http://galvanic-axle-852.appspot.com/static/taskdesign01/82/2679.png\n",
      "http://galvanic-axle-852.appspot.com/static/taskdesign01/82/2683.png\n",
      "http://galvanic-axle-852.appspot.com/static/taskdesign01/82/2684.png\n"
     ]
    }
   ],
   "source": [
    "# Images for nodes from proc 82\n",
    "images82 = [nodes[n]['img'] for n in nodes82]\n",
    "for i in sorted(images82):\n",
    "    print(i)"
   ]
  },
  {
   "cell_type": "code",
   "execution_count": 116,
   "metadata": {},
   "outputs": [
    {
     "name": "stdout",
     "output_type": "stream",
     "text": [
      "http://galvanic-axle-852.appspot.com/static/taskdesign01/83/2687.png\n",
      "http://galvanic-axle-852.appspot.com/static/taskdesign01/83/2688.png\n",
      "http://galvanic-axle-852.appspot.com/static/taskdesign01/83/2689.png\n",
      "http://galvanic-axle-852.appspot.com/static/taskdesign01/83/2690.png\n",
      "http://galvanic-axle-852.appspot.com/static/taskdesign01/83/2691.png\n",
      "http://galvanic-axle-852.appspot.com/static/taskdesign01/83/2692.png\n",
      "http://galvanic-axle-852.appspot.com/static/taskdesign01/83/2693.png\n",
      "http://galvanic-axle-852.appspot.com/static/taskdesign01/83/2694.png\n",
      "http://galvanic-axle-852.appspot.com/static/taskdesign01/83/2695.png\n",
      "http://galvanic-axle-852.appspot.com/static/taskdesign01/83/2696.png\n",
      "http://galvanic-axle-852.appspot.com/static/taskdesign01/83/2697.png\n",
      "http://galvanic-axle-852.appspot.com/static/taskdesign01/83/2698.png\n",
      "http://galvanic-axle-852.appspot.com/static/taskdesign01/83/2699.png\n",
      "http://galvanic-axle-852.appspot.com/static/taskdesign01/83/2700.png\n",
      "http://galvanic-axle-852.appspot.com/static/taskdesign01/83/2701.png\n",
      "http://galvanic-axle-852.appspot.com/static/taskdesign01/83/2702.png\n",
      "http://galvanic-axle-852.appspot.com/static/taskdesign01/83/2703.png\n",
      "http://galvanic-axle-852.appspot.com/static/taskdesign01/83/2704.png\n",
      "http://galvanic-axle-852.appspot.com/static/taskdesign01/83/2705.png\n",
      "http://galvanic-axle-852.appspot.com/static/taskdesign01/83/2706.png\n",
      "http://galvanic-axle-852.appspot.com/static/taskdesign01/83/2707.png\n",
      "http://galvanic-axle-852.appspot.com/static/taskdesign01/83/2708.png\n",
      "http://galvanic-axle-852.appspot.com/static/taskdesign01/83/2709.png\n"
     ]
    }
   ],
   "source": [
    "# Images for nodes from proc 83\n",
    "images83 = [nodes[n]['img'] for n in nodes83]\n",
    "for i in sorted(images83):\n",
    "    print(i)"
   ]
  },
  {
   "cell_type": "code",
   "execution_count": 117,
   "metadata": {
    "scrolled": false
   },
   "outputs": [
    {
     "name": "stdout",
     "output_type": "stream",
     "text": [
      "http://galvanic-axle-852.appspot.com/static/taskdesign01/84/2710.png\n",
      "http://galvanic-axle-852.appspot.com/static/taskdesign01/84/2711.png\n",
      "http://galvanic-axle-852.appspot.com/static/taskdesign01/84/2712.png\n",
      "http://galvanic-axle-852.appspot.com/static/taskdesign01/84/2713.png\n",
      "http://galvanic-axle-852.appspot.com/static/taskdesign01/84/2714.png\n",
      "http://galvanic-axle-852.appspot.com/static/taskdesign01/84/2715.png\n",
      "http://galvanic-axle-852.appspot.com/static/taskdesign01/84/2716.png\n",
      "http://galvanic-axle-852.appspot.com/static/taskdesign01/84/2717.png\n",
      "http://galvanic-axle-852.appspot.com/static/taskdesign01/84/2718.png\n",
      "http://galvanic-axle-852.appspot.com/static/taskdesign01/84/2719.png\n",
      "http://galvanic-axle-852.appspot.com/static/taskdesign01/84/2720.png\n",
      "http://galvanic-axle-852.appspot.com/static/taskdesign01/84/2721.png\n",
      "http://galvanic-axle-852.appspot.com/static/taskdesign01/84/2722.png\n",
      "http://galvanic-axle-852.appspot.com/static/taskdesign01/84/2723.png\n",
      "http://galvanic-axle-852.appspot.com/static/taskdesign01/84/2724.png\n",
      "http://galvanic-axle-852.appspot.com/static/taskdesign01/84/2725.png\n",
      "http://galvanic-axle-852.appspot.com/static/taskdesign01/84/2726.png\n",
      "http://galvanic-axle-852.appspot.com/static/taskdesign01/84/2727.png\n",
      "http://galvanic-axle-852.appspot.com/static/taskdesign01/84/2728.png\n",
      "http://galvanic-axle-852.appspot.com/static/taskdesign01/84/2729.png\n",
      "http://galvanic-axle-852.appspot.com/static/taskdesign01/84/2730.png\n",
      "http://galvanic-axle-852.appspot.com/static/taskdesign01/84/2731.png\n",
      "http://galvanic-axle-852.appspot.com/static/taskdesign01/84/2732.png\n"
     ]
    }
   ],
   "source": [
    "# Images for nodes from proc 84\n",
    "images84 = [nodes[n]['img'] for n in nodes84]\n",
    "for i in sorted(images84):\n",
    "    print(i)"
   ]
  },
  {
   "cell_type": "code",
   "execution_count": 118,
   "metadata": {},
   "outputs": [
    {
     "name": "stdout",
     "output_type": "stream",
     "text": [
      "http://galvanic-axle-852.appspot.com/static/taskdesign01/89/2883.png\n",
      "http://galvanic-axle-852.appspot.com/static/taskdesign01/89/2884.png\n",
      "http://galvanic-axle-852.appspot.com/static/taskdesign01/89/2885.png\n",
      "http://galvanic-axle-852.appspot.com/static/taskdesign01/89/2886.png\n",
      "http://galvanic-axle-852.appspot.com/static/taskdesign01/89/2887.png\n",
      "http://galvanic-axle-852.appspot.com/static/taskdesign01/89/2888.png\n",
      "http://galvanic-axle-852.appspot.com/static/taskdesign01/89/2889.png\n",
      "http://galvanic-axle-852.appspot.com/static/taskdesign01/89/2890.png\n",
      "http://galvanic-axle-852.appspot.com/static/taskdesign01/89/2891.png\n",
      "http://galvanic-axle-852.appspot.com/static/taskdesign01/89/2892.png\n",
      "http://galvanic-axle-852.appspot.com/static/taskdesign01/89/2893.png\n",
      "http://galvanic-axle-852.appspot.com/static/taskdesign01/89/2894.png\n",
      "http://galvanic-axle-852.appspot.com/static/taskdesign01/89/2895.png\n",
      "http://galvanic-axle-852.appspot.com/static/taskdesign01/89/2896.png\n",
      "http://galvanic-axle-852.appspot.com/static/taskdesign01/89/2897.png\n",
      "http://galvanic-axle-852.appspot.com/static/taskdesign01/89/2898.png\n",
      "http://galvanic-axle-852.appspot.com/static/taskdesign01/89/2899.png\n"
     ]
    }
   ],
   "source": [
    "# Images for nodes from proc 89\n",
    "images89 = [nodes[n]['img'] for n in nodes89]\n",
    "for i in sorted(images89):\n",
    "    print(i)"
   ]
  },
  {
   "cell_type": "code",
   "execution_count": 119,
   "metadata": {},
   "outputs": [
    {
     "name": "stdout",
     "output_type": "stream",
     "text": [
      "Group 82 length: 4\n",
      "Subgroup 0\n",
      "http://galvanic-axle-852.appspot.com/static/taskdesign01/82/2667.png\n",
      "http://galvanic-axle-852.appspot.com/static/taskdesign01/82/2668.png\n",
      "Subgroup 1\n",
      "http://galvanic-axle-852.appspot.com/static/taskdesign01/82/2669.png\n",
      "http://galvanic-axle-852.appspot.com/static/taskdesign01/82/2670.png\n",
      "http://galvanic-axle-852.appspot.com/static/taskdesign01/82/2671.png\n",
      "http://galvanic-axle-852.appspot.com/static/taskdesign01/82/2672.png\n",
      "Subgroup 2\n",
      "http://galvanic-axle-852.appspot.com/static/taskdesign01/82/2673.png\n",
      "http://galvanic-axle-852.appspot.com/static/taskdesign01/82/2674.png\n",
      "http://galvanic-axle-852.appspot.com/static/taskdesign01/82/2675.png\n",
      "http://galvanic-axle-852.appspot.com/static/taskdesign01/82/2679.png\n",
      "Subgroup 3\n",
      "http://galvanic-axle-852.appspot.com/static/taskdesign01/82/2676.png\n",
      "http://galvanic-axle-852.appspot.com/static/taskdesign01/82/2683.png\n",
      "http://galvanic-axle-852.appspot.com/static/taskdesign01/82/2684.png\n"
     ]
    }
   ],
   "source": [
    "# Subjective list of nodes that could be grouped together in a single image\n",
    "nodegroup82 = [\n",
    "    ['2667', '2668'], # Apply online\n",
    "    ['2669', '2670', '2671', '2672'], # Send document by post\n",
    "    ['2673', '2674', '2675', '2679'], # Aptitude test\n",
    "    ['2676', '2683', '2684'] # Acceptance\n",
    "]\n",
    "print(f\"Group 82 length: {len(nodegroup82)}\")\n",
    "for i, g in enumerate(nodegroup82):\n",
    "    print(f\"Subgroup {i}\")\n",
    "    for n in g:\n",
    "        print(nodes[n]['img'])"
   ]
  },
  {
   "cell_type": "code",
   "execution_count": 120,
   "metadata": {},
   "outputs": [
    {
     "name": "stdout",
     "output_type": "stream",
     "text": [
      "Group 83 length: 6\n",
      "Subgroup 0\n",
      "http://galvanic-axle-852.appspot.com/static/taskdesign01/83/2687.png\n",
      "http://galvanic-axle-852.appspot.com/static/taskdesign01/83/2689.png\n",
      "http://galvanic-axle-852.appspot.com/static/taskdesign01/83/2692.png\n",
      "http://galvanic-axle-852.appspot.com/static/taskdesign01/83/2693.png\n",
      "Subgroup 1\n",
      "http://galvanic-axle-852.appspot.com/static/taskdesign01/83/2688.png\n",
      "http://galvanic-axle-852.appspot.com/static/taskdesign01/83/2704.png\n",
      "http://galvanic-axle-852.appspot.com/static/taskdesign01/83/2705.png\n",
      "http://galvanic-axle-852.appspot.com/static/taskdesign01/83/2708.png\n",
      "Subgroup 2\n",
      "http://galvanic-axle-852.appspot.com/static/taskdesign01/83/2690.png\n",
      "http://galvanic-axle-852.appspot.com/static/taskdesign01/83/2691.png\n",
      "http://galvanic-axle-852.appspot.com/static/taskdesign01/83/2706.png\n",
      "http://galvanic-axle-852.appspot.com/static/taskdesign01/83/2707.png\n",
      "Subgroup 3\n",
      "http://galvanic-axle-852.appspot.com/static/taskdesign01/83/2695.png\n",
      "http://galvanic-axle-852.appspot.com/static/taskdesign01/83/2698.png\n",
      "http://galvanic-axle-852.appspot.com/static/taskdesign01/83/2699.png\n",
      "http://galvanic-axle-852.appspot.com/static/taskdesign01/83/2700.png\n",
      "Subgroup 4\n",
      "http://galvanic-axle-852.appspot.com/static/taskdesign01/83/2701.png\n",
      "http://galvanic-axle-852.appspot.com/static/taskdesign01/83/2702.png\n",
      "http://galvanic-axle-852.appspot.com/static/taskdesign01/83/2703.png\n",
      "Subgroup 5\n",
      "http://galvanic-axle-852.appspot.com/static/taskdesign01/83/2694.png\n",
      "http://galvanic-axle-852.appspot.com/static/taskdesign01/83/2696.png\n",
      "http://galvanic-axle-852.appspot.com/static/taskdesign01/83/2697.png\n",
      "http://galvanic-axle-852.appspot.com/static/taskdesign01/83/2709.png\n"
     ]
    }
   ],
   "source": [
    "nodegroup83 = [\n",
    "    ['2687', '2689', '2692', '2693'], # Average grade\n",
    "    ['2688', '2704', '2705', '2708'], # Cp mathematics\n",
    "    ['2690', '2691', '2706', '2707'], # Apply online\n",
    "    ['2695', '2698', '2699', '2700'], # Provisional acceptance\n",
    "    ['2701', '2702', '2703'], # Bachelor certificate\n",
    "    ['2694', '2696', '2697', '2709'], # Accept / Reject\n",
    "]\n",
    "print(f\"Group 83 length: {len(nodegroup83)}\")\n",
    "for i, g in enumerate(nodegroup83):\n",
    "    print(f\"Subgroup {i}\")\n",
    "    for n in g:\n",
    "        print(nodes[n]['img'])"
   ]
  },
  {
   "cell_type": "code",
   "execution_count": 121,
   "metadata": {},
   "outputs": [
    {
     "name": "stdout",
     "output_type": "stream",
     "text": [
      "Group 84 length: 6\n",
      "Subgroup 0\n",
      "http://galvanic-axle-852.appspot.com/static/taskdesign01/84/2710.png\n",
      "http://galvanic-axle-852.appspot.com/static/taskdesign01/84/2711.png\n",
      "http://galvanic-axle-852.appspot.com/static/taskdesign01/84/2712.png\n",
      "http://galvanic-axle-852.appspot.com/static/taskdesign01/84/2713.png\n",
      "http://galvanic-axle-852.appspot.com/static/taskdesign01/84/2714.png\n",
      "Subgroup 1\n",
      "http://galvanic-axle-852.appspot.com/static/taskdesign01/84/2715.png\n",
      "http://galvanic-axle-852.appspot.com/static/taskdesign01/84/2717.png\n",
      "Subgroup 2\n",
      "http://galvanic-axle-852.appspot.com/static/taskdesign01/84/2716.png\n",
      "http://galvanic-axle-852.appspot.com/static/taskdesign01/84/2718.png\n",
      "http://galvanic-axle-852.appspot.com/static/taskdesign01/84/2722.png\n",
      "http://galvanic-axle-852.appspot.com/static/taskdesign01/84/2730.png\n",
      "http://galvanic-axle-852.appspot.com/static/taskdesign01/84/2732.png\n",
      "Subgroup 3\n",
      "http://galvanic-axle-852.appspot.com/static/taskdesign01/84/2719.png\n",
      "http://galvanic-axle-852.appspot.com/static/taskdesign01/84/2720.png\n",
      "Subgroup 4\n",
      "http://galvanic-axle-852.appspot.com/static/taskdesign01/84/2721.png\n",
      "http://galvanic-axle-852.appspot.com/static/taskdesign01/84/2723.png\n",
      "http://galvanic-axle-852.appspot.com/static/taskdesign01/84/2724.png\n",
      "http://galvanic-axle-852.appspot.com/static/taskdesign01/84/2729.png\n",
      "http://galvanic-axle-852.appspot.com/static/taskdesign01/84/2731.png\n",
      "Subgroup 5\n",
      "http://galvanic-axle-852.appspot.com/static/taskdesign01/84/2725.png\n",
      "http://galvanic-axle-852.appspot.com/static/taskdesign01/84/2726.png\n",
      "http://galvanic-axle-852.appspot.com/static/taskdesign01/84/2727.png\n",
      "http://galvanic-axle-852.appspot.com/static/taskdesign01/84/2728.png\n"
     ]
    }
   ],
   "source": [
    "nodegroup84 = [\n",
    "    ['2710', '2711', '2712', '2713', '2714'], # Complete and in time; REVIEW!!!\n",
    "    ['2715', '2717'], # Check complete\n",
    "    ['2716', '2718', '2722', '2730', '2732'], # German\n",
    "    ['2719', '2720'], # Send/rec application\n",
    "    ['2721', '2723', '2724', '2729', '2731'], # Send rejection\n",
    "    ['2725', '2726', '2727', '2728'], # Invite to talk\n",
    "]\n",
    "print(f\"Group 84 length: {len(nodegroup84)}\")\n",
    "for i, g in enumerate(nodegroup84):\n",
    "    print(f\"Subgroup {i}\")\n",
    "    for n in g:\n",
    "        print(nodes[n]['img'])"
   ]
  },
  {
   "cell_type": "code",
   "execution_count": 122,
   "metadata": {},
   "outputs": [
    {
     "name": "stdout",
     "output_type": "stream",
     "text": [
      "Group 89 length: 5\n",
      "Subgroup 0\n",
      "http://galvanic-axle-852.appspot.com/static/taskdesign01/89/2883.png\n",
      "http://galvanic-axle-852.appspot.com/static/taskdesign01/89/2888.png\n",
      "http://galvanic-axle-852.appspot.com/static/taskdesign01/89/2889.png\n",
      "http://galvanic-axle-852.appspot.com/static/taskdesign01/89/2893.png\n",
      "Subgroup 1\n",
      "http://galvanic-axle-852.appspot.com/static/taskdesign01/89/2884.png\n",
      "http://galvanic-axle-852.appspot.com/static/taskdesign01/89/2885.png\n",
      "http://galvanic-axle-852.appspot.com/static/taskdesign01/89/2886.png\n",
      "http://galvanic-axle-852.appspot.com/static/taskdesign01/89/2894.png\n",
      "Subgroup 2\n",
      "http://galvanic-axle-852.appspot.com/static/taskdesign01/89/2887.png\n",
      "http://galvanic-axle-852.appspot.com/static/taskdesign01/89/2895.png\n",
      "Subgroup 3\n",
      "http://galvanic-axle-852.appspot.com/static/taskdesign01/89/2890.png\n",
      "http://galvanic-axle-852.appspot.com/static/taskdesign01/89/2891.png\n",
      "http://galvanic-axle-852.appspot.com/static/taskdesign01/89/2892.png\n",
      "Subgroup 4\n",
      "http://galvanic-axle-852.appspot.com/static/taskdesign01/89/2896.png\n",
      "http://galvanic-axle-852.appspot.com/static/taskdesign01/89/2897.png\n",
      "http://galvanic-axle-852.appspot.com/static/taskdesign01/89/2898.png\n",
      "http://galvanic-axle-852.appspot.com/static/taskdesign01/89/2899.png\n"
     ]
    }
   ],
   "source": [
    "nodegroup89 = [\n",
    "    ['2883', '2888', '2889', '2893'], # Send acc/rej\n",
    "    ['2884', '2885', '2886', '2894'], # Apply online\n",
    "    ['2887', '2895'], # Evaluate, 30cp\n",
    "    ['2890', '2891', '2892'], # Interview\n",
    "    ['2896', '2897', '2898', '2899'] # Check docs, 30cp\n",
    "]\n",
    "print(f\"Group 89 length: {len(nodegroup89)}\")\n",
    "for i, g in enumerate(nodegroup89):\n",
    "    print(f\"Subgroup {i}\")\n",
    "    for n in g:\n",
    "        print(nodes[n]['img'])"
   ]
  },
  {
   "cell_type": "code",
   "execution_count": 123,
   "metadata": {
    "collapsed": true
   },
   "outputs": [],
   "source": [
    "# Build Design 2 (Keywords) Input data (csv)\n",
    "# Row => | proc_id | node_id | node_label | node_img |\n",
    "\n",
    "def get_prop_list(node_data):\n",
    "    return [node_data['proc_id'], node_data['node_id'], node_data['label'], node_data['img']]\n",
    "\n",
    "\n",
    "plist82 = [get_prop_list(nodes[n]) for n in nodes82]\n",
    "plist83 = [get_prop_list(nodes[n]) for n in nodes83]\n",
    "plist84 = [get_prop_list(nodes[n]) for n in nodes84]\n",
    "plist89 = [get_prop_list(nodes[n]) for n in nodes89]\n",
    "\n",
    "d2header = ['process_id', 'node_id', 'node_label', 'node_img']\n",
    "d2data = plist82 + plist83 + plist84 + plist89\n",
    "\n",
    "def writed2csv():\n",
    "    with open('Design2_Input_v2.csv', 'w', newline='') as d2csvfile:\n",
    "        writer = csv.writer(d2csvfile, dialect='excel')\n",
    "        writer.writerow(d2header)\n",
    "        writer.writerows(d2data)\n",
    "#writed2csv() # Uncomment to write"
   ]
  },
  {
   "cell_type": "code",
   "execution_count": 124,
   "metadata": {
    "collapsed": true
   },
   "outputs": [],
   "source": [
    "#plist82"
   ]
  },
  {
   "cell_type": "code",
   "execution_count": 125,
   "metadata": {},
   "outputs": [
    {
     "name": "stdout",
     "output_type": "stream",
     "text": [
      "https://i.imgur.com/itkXCmg.png\n",
      "https://i.imgur.com/qM7QUtc.png\n",
      "https://i.imgur.com/Q009q9b.png\n",
      "https://i.imgur.com/OMUs1nZ.png\n"
     ]
    }
   ],
   "source": [
    "group82links = [\n",
    "    'https://i.imgur.com/itkXCmg.png',\n",
    "    'https://i.imgur.com/qM7QUtc.png',\n",
    "    'https://i.imgur.com/Q009q9b.png',\n",
    "    'https://i.imgur.com/OMUs1nZ.png'\n",
    "]\n",
    "for i in group82links:\n",
    "    print(i)"
   ]
  },
  {
   "cell_type": "code",
   "execution_count": 126,
   "metadata": {},
   "outputs": [
    {
     "name": "stdout",
     "output_type": "stream",
     "text": [
      "https://i.imgur.com/mMx14CQ.png\n",
      "https://i.imgur.com/HLcVtRu.png\n",
      "https://i.imgur.com/cy9q2Cq.png\n",
      "https://i.imgur.com/KGuw0WU.png\n",
      "https://i.imgur.com/0F7w4YA.png\n",
      "https://i.imgur.com/0bOIDEl.png\n"
     ]
    }
   ],
   "source": [
    "group83links = [\n",
    "    'https://i.imgur.com/mMx14CQ.png',\n",
    "    'https://i.imgur.com/HLcVtRu.png',\n",
    "    'https://i.imgur.com/cy9q2Cq.png',\n",
    "    'https://i.imgur.com/KGuw0WU.png',\n",
    "    'https://i.imgur.com/0F7w4YA.png',\n",
    "    'https://i.imgur.com/0bOIDEl.png'\n",
    "]\n",
    "for i in group83links:\n",
    "    print(i)"
   ]
  },
  {
   "cell_type": "code",
   "execution_count": 127,
   "metadata": {},
   "outputs": [
    {
     "name": "stdout",
     "output_type": "stream",
     "text": [
      "https://i.imgur.com/VZwozT1.png\n",
      "https://i.imgur.com/svotSPs.png\n",
      "https://i.imgur.com/rION8bN.png\n",
      "https://i.imgur.com/eK2xnAs.png\n",
      "https://i.imgur.com/TF0QbAE.png\n",
      "https://i.imgur.com/DT69KMC.png\n"
     ]
    }
   ],
   "source": [
    "group84links = [\n",
    "    'https://i.imgur.com/VZwozT1.png',\n",
    "    'https://i.imgur.com/svotSPs.png',\n",
    "    'https://i.imgur.com/rION8bN.png',\n",
    "    'https://i.imgur.com/eK2xnAs.png',\n",
    "    'https://i.imgur.com/TF0QbAE.png',\n",
    "    'https://i.imgur.com/DT69KMC.png'\n",
    "]\n",
    "for i in group84links:\n",
    "    print(i)"
   ]
  },
  {
   "cell_type": "code",
   "execution_count": 128,
   "metadata": {},
   "outputs": [
    {
     "name": "stdout",
     "output_type": "stream",
     "text": [
      "https://i.imgur.com/p4rP7Xh.png\n",
      "https://i.imgur.com/1GrcVPz.png\n",
      "https://i.imgur.com/fTDxvCy.png\n",
      "https://i.imgur.com/gqs0rQz.png\n",
      "https://i.imgur.com/ZNNxaUP.png\n"
     ]
    }
   ],
   "source": [
    "group89links = [\n",
    "    'https://i.imgur.com/p4rP7Xh.png',\n",
    "    'https://i.imgur.com/1GrcVPz.png',\n",
    "    'https://i.imgur.com/fTDxvCy.png',\n",
    "    'https://i.imgur.com/gqs0rQz.png',\n",
    "    'https://i.imgur.com/ZNNxaUP.png'\n",
    "]\n",
    "for i in group89links:\n",
    "    print(i)"
   ]
  },
  {
   "cell_type": "code",
   "execution_count": 129,
   "metadata": {
    "collapsed": true
   },
   "outputs": [],
   "source": [
    "# Ids for thr groups of nodes\n",
    "# Each id is composed by the ids of the nodes present in the group\n",
    "\n",
    "group82ids = [\n",
    "    '2667+2668+2669+2670',\n",
    "    '2668+2669+2670+2671+2672',\n",
    "    '2673+2674+2675+2679',\n",
    "    '2676+2683+2684'\n",
    "]\n",
    "\n",
    "group83ids = [\n",
    "    '2687+2689+2692+2693',\n",
    "    '2688+2704+2705+2708',\n",
    "    '2690+2691+2706+2707',\n",
    "    '2694+2696+2697+2709',\n",
    "    '2695+2698+2699+2700',\n",
    "    '2700+2701+2702+2703'\n",
    "]\n",
    "\n",
    "group84ids = [\n",
    "    '2710+2711+2712+2713+2714',\n",
    "    '2710+2711+2715+2717+2719+2720',\n",
    "    '2715+2716+2717+2719+2720+2722+2732',\n",
    "    '2716+2718+2720+2722+2730+2732',\n",
    "    '2721+2723+2724+2728+2729+2731',\n",
    "    '2725+2726+2727+2728'\n",
    "]\n",
    "\n",
    "group89ids = [\n",
    "    '2883+2888+2889+2893',\n",
    "    '2884+2885+2886+2894',\n",
    "    '2887+2895+2899',\n",
    "    '2890+2891+2892',\n",
    "    '2896+2897+2898+2899'\n",
    "]"
   ]
  },
  {
   "cell_type": "code",
   "execution_count": 130,
   "metadata": {},
   "outputs": [
    {
     "name": "stdout",
     "output_type": "stream",
     "text": [
      "2667+2668+2669+2670: https://i.imgur.com/itkXCmg.png\n",
      "2668+2669+2670+2671+2672: https://i.imgur.com/qM7QUtc.png\n",
      "2673+2674+2675+2679: https://i.imgur.com/Q009q9b.png\n",
      "2676+2683+2684: https://i.imgur.com/OMUs1nZ.png\n"
     ]
    }
   ],
   "source": [
    "groups82 = {}\n",
    "for i, gid in enumerate(group82ids):\n",
    "    groups82[gid] = group82links[i]\n",
    "for k,v in groups82.items():\n",
    "    print(f\"{k}: {v}\")"
   ]
  },
  {
   "cell_type": "code",
   "execution_count": 131,
   "metadata": {},
   "outputs": [
    {
     "name": "stdout",
     "output_type": "stream",
     "text": [
      "2687+2689+2692+2693: https://i.imgur.com/mMx14CQ.png\n",
      "2688+2704+2705+2708: https://i.imgur.com/HLcVtRu.png\n",
      "2690+2691+2706+2707: https://i.imgur.com/cy9q2Cq.png\n",
      "2694+2696+2697+2709: https://i.imgur.com/KGuw0WU.png\n",
      "2695+2698+2699+2700: https://i.imgur.com/0F7w4YA.png\n",
      "2700+2701+2702+2703: https://i.imgur.com/0bOIDEl.png\n"
     ]
    }
   ],
   "source": [
    "groups83 = {}\n",
    "for i, gid in enumerate(group83ids):\n",
    "    groups83[gid] = group83links[i]\n",
    "for k,v in groups83.items():\n",
    "    print(f\"{k}: {v}\")"
   ]
  },
  {
   "cell_type": "code",
   "execution_count": 132,
   "metadata": {
    "scrolled": false
   },
   "outputs": [
    {
     "name": "stdout",
     "output_type": "stream",
     "text": [
      "2710+2711+2712+2713+2714: https://i.imgur.com/VZwozT1.png\n",
      "2710+2711+2715+2717+2719+2720: https://i.imgur.com/svotSPs.png\n",
      "2715+2716+2717+2719+2720+2722+2732: https://i.imgur.com/rION8bN.png\n",
      "2716+2718+2720+2722+2730+2732: https://i.imgur.com/eK2xnAs.png\n",
      "2721+2723+2724+2728+2729+2731: https://i.imgur.com/TF0QbAE.png\n",
      "2725+2726+2727+2728: https://i.imgur.com/DT69KMC.png\n"
     ]
    }
   ],
   "source": [
    "groups84 = {}\n",
    "for i, gid in enumerate(group84ids):\n",
    "    groups84[gid] = group84links[i]\n",
    "for k,v in groups84.items():\n",
    "    print(f\"{k}: {v}\")"
   ]
  },
  {
   "cell_type": "code",
   "execution_count": 133,
   "metadata": {},
   "outputs": [
    {
     "name": "stdout",
     "output_type": "stream",
     "text": [
      "2883+2888+2889+2893: https://i.imgur.com/p4rP7Xh.png\n",
      "2884+2885+2886+2894: https://i.imgur.com/1GrcVPz.png\n",
      "2887+2895+2899: https://i.imgur.com/fTDxvCy.png\n",
      "2890+2891+2892: https://i.imgur.com/gqs0rQz.png\n",
      "2896+2897+2898+2899: https://i.imgur.com/ZNNxaUP.png\n"
     ]
    }
   ],
   "source": [
    "groups89 = {}\n",
    "for i, gid in enumerate(group89ids):\n",
    "    groups89[gid] = group89links[i]\n",
    "for k,v in groups89.items():\n",
    "    print(f\"{k}: {v}\")"
   ]
  },
  {
   "cell_type": "code",
   "execution_count": 134,
   "metadata": {},
   "outputs": [
    {
     "data": {
      "text/plain": [
       "'bridging courses < 30 cp,check documents,forward documents,documents received'"
      ]
     },
     "execution_count": 134,
     "metadata": {},
     "output_type": "execute_result"
    }
   ],
   "source": [
    "def get_group_labels(group_id):\n",
    "    \"\"\"\n",
    "    Get the label associated to each node present in a group.\n",
    "    \"\"\"\n",
    "    node_ids = group_id.split('+')\n",
    "    return [nodes[n]['label'] for n in node_ids]\n",
    "\n",
    "def get_group_labels_csv(group_id):\n",
    "    \"\"\"\n",
    "    Join the list of labels of a group into a csv string.\n",
    "    \"\"\"\n",
    "    return ','.join(get_group_labels(group_id))\n",
    "\n",
    "get_group_labels_csv('2896+2897+2898+2899')"
   ]
  },
  {
   "cell_type": "code",
   "execution_count": 135,
   "metadata": {},
   "outputs": [
    {
     "data": {
      "text/plain": [
       "['82',\n",
       " '2667',\n",
       " 'Apply Online',\n",
       " 'http://galvanic-axle-852.appspot.com/static/taskdesign01/82/2667.png',\n",
       " '83',\n",
       " '2687+2689+2692+2693',\n",
       " 'https://i.imgur.com/mMx14CQ.png',\n",
       " 'average grade is good or better,average grade is less than good,provisional acceptance confirmed,provisional acceptance cancelled']"
      ]
     },
     "execution_count": 135,
     "metadata": {},
     "output_type": "execute_result"
    }
   ],
   "source": [
    "nodegroup8283 = []\n",
    "for i in plist82:\n",
    "    for k, v in groups83.items():\n",
    "        nodegroup8283.append(i + ['83', k, v, get_group_labels_csv(k)])\n",
    "        \n",
    "nodegroup8283[0]"
   ]
  },
  {
   "cell_type": "code",
   "execution_count": 136,
   "metadata": {},
   "outputs": [
    {
     "data": {
      "text/plain": [
       "['82',\n",
       " '2667',\n",
       " 'Apply Online',\n",
       " 'http://galvanic-axle-852.appspot.com/static/taskdesign01/82/2667.png',\n",
       " '84',\n",
       " '2710+2711+2712+2713+2714',\n",
       " 'https://i.imgur.com/VZwozT1.png',\n",
       " 'complete and in time?,hand application over to examining board,check if bachelor is sufficient,set additional requirements,check if bachelors-grade within top 85%']"
      ]
     },
     "execution_count": 136,
     "metadata": {},
     "output_type": "execute_result"
    }
   ],
   "source": [
    "nodegroup8284 = []\n",
    "for i in plist82:\n",
    "    for k, v in groups84.items():\n",
    "        nodegroup8284.append(i + ['84', k, v, get_group_labels_csv(k)])\n",
    "        \n",
    "nodegroup8284[0]"
   ]
  },
  {
   "cell_type": "code",
   "execution_count": 137,
   "metadata": {},
   "outputs": [
    {
     "data": {
      "text/plain": [
       "['83',\n",
       " '2707',\n",
       " 'check documents',\n",
       " 'http://galvanic-axle-852.appspot.com/static/taskdesign01/83/2707.png',\n",
       " '89',\n",
       " '2883+2888+2889+2893',\n",
       " 'https://i.imgur.com/p4rP7Xh.png',\n",
       " 'rejected,send letter of acceptance,send letter of rejection,rejected']"
      ]
     },
     "execution_count": 137,
     "metadata": {},
     "output_type": "execute_result"
    }
   ],
   "source": [
    "nodegroup8389 = []\n",
    "for i in plist83:\n",
    "    for k, v in groups89.items():\n",
    "        nodegroup8389.append(i + ['89', k, v, get_group_labels_csv(k)])\n",
    "        \n",
    "nodegroup8389[0]"
   ]
  },
  {
   "cell_type": "code",
   "execution_count": 138,
   "metadata": {},
   "outputs": [
    {
     "data": {
      "text/plain": [
       "['83',\n",
       " '2707',\n",
       " 'check documents',\n",
       " 'http://galvanic-axle-852.appspot.com/static/taskdesign01/83/2707.png',\n",
       " '82',\n",
       " '2667+2668+2669+2670',\n",
       " 'https://i.imgur.com/itkXCmg.png',\n",
       " 'Apply Online,Send Online Protocol,Send Documents by Post,Documents received']"
      ]
     },
     "execution_count": 138,
     "metadata": {},
     "output_type": "execute_result"
    }
   ],
   "source": [
    "# Gruppo query-result di 83 e 82\n",
    "# Qui vengono selezionati i label di 83 ed i gruppi di 82\n",
    "nodegroup8382 = []\n",
    "for i in plist83:\n",
    "    for k, v in groups82.items():\n",
    "        nodegroup8382.append(i + ['82', k, v, get_group_labels_csv(k)])\n",
    "        \n",
    "nodegroup8382[0]"
   ]
  },
  {
   "cell_type": "code",
   "execution_count": 140,
   "metadata": {
    "collapsed": true
   },
   "outputs": [],
   "source": [
    "# Build Design 4 (Search feedback) Input data (csv)\n",
    "# Row => | query_proc_id | query_node_id | query | proc_id | group_id | group_img | group_labels |\n",
    "\n",
    "# This data is also valid for Design 7\n",
    "d4header = ['query_process_id', 'query_node_id', 'query_node_label', 'query_node_img', 'result_process_id', 'result_group_id', 'result_group_img', 'result_group_labels']\n",
    "d4data = (nodegroup8283 + nodegroup8284 + nodegroup8389 + # Tutte le coppie in ordine alfabetico (82-83, 82-84, 83-89)\n",
    "          nodegroup8382) # Coppia 83-82 (ordine inverso)\n",
    "\n",
    "# IMPORTANT\n",
    "# Once the file is converted to '.xlsx' and uploaded to Crowdflower\n",
    "# it is necessary to split the columns:\n",
    "# - \"result_group_id\" split with '+'\n",
    "# - \"result_group_labels\" split with ','\n",
    "def writed4csv():\n",
    "    with open('Design4_Input_V00.csv', 'w', newline='') as d4csvfile:\n",
    "        writer = csv.writer(d4csvfile, dialect='excel')\n",
    "        writer.writerow(d4header)\n",
    "        writer.writerows(d4data)\n",
    "#writed4csv() # Uncomment to write"
   ]
  }
 ],
 "metadata": {
  "kernelspec": {
   "display_name": "Python 3",
   "language": "python",
   "name": "python3"
  },
  "language_info": {
   "codemirror_mode": {
    "name": "ipython",
    "version": 3
   },
   "file_extension": ".py",
   "mimetype": "text/x-python",
   "name": "python",
   "nbconvert_exporter": "python",
   "pygments_lexer": "ipython3",
   "version": "3.6.1"
  }
 },
 "nbformat": 4,
 "nbformat_minor": 2
}
